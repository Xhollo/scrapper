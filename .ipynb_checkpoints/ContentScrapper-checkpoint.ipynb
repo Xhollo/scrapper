{
 "cells": [
  {
   "cell_type": "code",
   "execution_count": 1,
   "metadata": {
    "collapsed": true
   },
   "outputs": [],
   "source": [
    "import urllib2, re, csv, os, os.path\n",
    "from bs4 import BeautifulSoup\n",
    "import requests as rq\n",
    "import pandas as pd"
   ]
  },
  {
   "cell_type": "markdown",
   "metadata": {},
   "source": [
    "### Get the Link"
   ]
  },
  {
   "cell_type": "code",
   "execution_count": 6,
   "metadata": {
    "collapsed": false
   },
   "outputs": [
    {
     "name": "stdout",
     "output_type": "stream",
     "text": [
      "[['http://mutuku.blogdetik.com/2016/11/02/ngemel-dulu-jika-ingin-terbebas-kemacetan'], ['http://aribicara.blogdetik.com/2016/10/12/pemimpin-dan-tokoh-agama-itu-harusnya-mendamaikan-bukan-provokator'], ['http://aribicara.blogdetik.com/2016/09/02/penggusuran-terkadang-yang-salah-terlihat-benar-dan-harus-dikasihani'], ['http://riandaprayoga.blogdetik.com/2016/08/19/bahagia-itu-sederhana-sederhan-yang-bagaimana'], ['http://genrambai.blogdetik.com/2016/06/25/indonesia-makmur-berkat-zakat'], ['http://sotochan.blogdetik.com/2016/06/18/perubahan-kebudayaan-masyarakat-indonesia'], ['http://denias.blogdetik.com/2016/05/13/kota-penuh-cerita-itu-jakarta'], ['http://denias.blogdetik.com/2016/04/18/5-hal-yang-membosankan-saat-bekerja-1'], ['http://maszen.blogdetik.com/2016/04/01/transportasi-online-dan-cermin-buruknya-transportasi-publik'], ['http://aribicara.blogdetik.com/2016/02/22/antara-plastik-kresek-kerusakan-lingkungan-dan-revolusi-mental'], ['http://kangbudhi.blogdetik.com/2016/01/18/situasi-donor-darah-di-indonesia'], ['http://aribicara.blogdetik.com/2015/11/05/generasi-para-pencela-di-sosial-media-yang-tiada-ada-akhirnya'], ['http://blog.detik.com/kabarblog/2015/10/08/untuk-melawanasap-detikers-menggalang-bantuan-10-ribu-masker'], ['http://aribicara.blogdetik.com/2015/10/07/polisi-harus-membuang-mental-pengemis-jika-ingin-terhormat'], ['http://breaksnews.blogdetik.com/2015/10/05/tanpa-disadari-sederhana'], ['http://indoterkini.blogdetik.com/2015/10/05/beginilah-cara-facebook-merusak-hidup-dan-pertemanan'], ['http://aribicara.blogdetik.com/2015/09/29/menulis-bukan-asal-kejar-traffic-1'], ['http://dila.blogdetik.com/2015/08/15/veteran-belajarlah-jangan-ikuti-jejak-kami'], ['http://mutiaraterpendam.blogdetik.com/2015/07/16/bpjs-kesehatan-dilema-bagi-karyawan-swasta-part-2-1'], ['http://mutiaraterpendam.blogdetik.com/2015/07/15/bpjs-kesehatan-dilema-bagi-karyawan-swasta-part-1'], ['http://bangjefri.blogdetik.com/2015/01/21/mencintai-beberapa-wanita-yang-lahir-pada-bulan-yang-sama'], ['http://bundaiin.blogdetik.com/2014/10/29/dunia-remaja-perhatian-kasih-sayang'], ['http://evrinasp.blogdetik.com/2014/05/04/pemberdayaan-wanita-melalui-olahan-pala'], ['http://rodamen.blogdetik.com/2014/05/03/indonesia-harus-move-on'], ['http://mogo.blogdetik.com/2014/03/22/hal-kecil-untuk-lingkungan'], ['http://riandaprayoga.blogdetik.com/2014/03/19/hobi-menanam-selamatkan-bumi-juga-penuh-rejeki'], ['http://riandaprayoga.blogdetik.com/2014/03/14/doakan-hujan-buat-riau'], ['http://riandaprayoga.blogdetik.com/2014/03/11/akibat-pengendara-cilik-di-jalan'], ['http://riandaprayoga.blogdetik.com/2014/03/10/menanam-untuk-mengurangi-stres-saat-ujian'], ['http://bundaiin.blogdetik.com/2014/03/04/dunia-ideal-angan-angan-atau-nyata']]\n",
      "\n",
      "[['http://resepkoki.co/belajar-memasak-pemula/'], ['http://resepkoki.co/masak-apa-hari-ini/'], ['http://resepkoki.co/aneka-resep-kue/'], ['http://resepkoki.co/tips-membuat-kremesan-ayam/'], ['http://resepkoki.co/swift-chopper-blender-tanpa-listrik/'], ['http://resepkoki.co/genius-nicer-dicer-plus/'], ['http://resepkoki.co/calista/'], ['http://resepkoki.co/8in1/'], ['http://resepkoki.co/cari-menyimpan-roti-tawar-agar-tetap-awet-dan-fresh/'], ['http://resepkoki.co/10-item-selain-makanan-yang-harus-ada-di-kulkas-anda/'], ['http://resepkoki.co/cantik-dan-langsing-dengan-jus-detox/'], ['http://resepkoki.co/resep-kue-bola-goreng-rasa-pisang/'], ['http://resepkoki.co/resep-kue-jagung/'], ['http://resepkoki.co/resep-pisang-goreng-rumahan/'], ['http://resepkoki.co/7-cara-sehat-memasak-sayuran-yang-baik-dan-benar/'], ['http://resepkoki.co/alasan-mengapa-memasak-sendiri-di-rumah-jauh-lebih-menguntungkan-untuk-anda/'], ['http://resepkoki.co/menu-sarapan-pagi-praktis/'], ['http://resepkoki.co/resep-bola-bola-coklat/'], ['http://resepkoki.co/martabak-mie-bayam-saus-mayonaise/'], ['http://resepkoki.co/pisang-goreng-gula-jawa/']]\n"
     ]
    }
   ],
   "source": [
    "# CSV file of the daya\n",
    "# doc = './resepkoki.co.csv'\n",
    "doc = './data/url-blogdetik-social.csv'\n",
    "\n",
    "urls = []\n",
    "with open(doc, 'rb') as csvfile:\n",
    "    links = csv.reader(csvfile, delimiter=' ', quotechar='|')\n",
    "    for link in links:\n",
    "        urls.append(link)\n",
    "\n",
    "print urls\n",
    "\n",
    "x = [['http://resepkoki.co/belajar-memasak-pemula/'], ['http://resepkoki.co/masak-apa-hari-ini/'], ['http://resepkoki.co/aneka-resep-kue/'], ['http://resepkoki.co/tips-membuat-kremesan-ayam/'], ['http://resepkoki.co/swift-chopper-blender-tanpa-listrik/'], ['http://resepkoki.co/genius-nicer-dicer-plus/'], ['http://resepkoki.co/calista/'], ['http://resepkoki.co/8in1/'], ['http://resepkoki.co/cari-menyimpan-roti-tawar-agar-tetap-awet-dan-fresh/'], ['http://resepkoki.co/10-item-selain-makanan-yang-harus-ada-di-kulkas-anda/'], ['http://resepkoki.co/cantik-dan-langsing-dengan-jus-detox/'], ['http://resepkoki.co/resep-kue-bola-goreng-rasa-pisang/'], ['http://resepkoki.co/resep-kue-jagung/'], ['http://resepkoki.co/resep-pisang-goreng-rumahan/'], ['http://resepkoki.co/7-cara-sehat-memasak-sayuran-yang-baik-dan-benar/'], ['http://resepkoki.co/alasan-mengapa-memasak-sendiri-di-rumah-jauh-lebih-menguntungkan-untuk-anda/'], ['http://resepkoki.co/menu-sarapan-pagi-praktis/'], ['http://resepkoki.co/resep-bola-bola-coklat/'], ['http://resepkoki.co/martabak-mie-bayam-saus-mayonaise/'], ['http://resepkoki.co/pisang-goreng-gula-jawa/']]\n",
    "\n",
    "print\n",
    "\n",
    "print x"
   ]
  },
  {
   "cell_type": "code",
   "execution_count": null,
   "metadata": {
    "collapsed": true
   },
   "outputs": [],
   "source": []
  },
  {
   "cell_type": "markdown",
   "metadata": {},
   "source": [
    "### Build data"
   ]
  },
  {
   "cell_type": "code",
   "execution_count": 11,
   "metadata": {
    "collapsed": true
   },
   "outputs": [],
   "source": [
    "# build content\n",
    "def build_content(soup):\n",
    "    contents = []\n",
    "    title = \"\"\n",
    "    try:\n",
    "        title = soup.find('h1')\n",
    "        if title == \"\":\n",
    "            title == soup.find('h2')\n",
    "        else:\n",
    "            title == soup.find('h3')\n",
    "            \n",
    "        content = soup.find('div', attrs={'class': 'main_content'})\n",
    "        pages = content.findAll(['h3','p', 'li'])\n",
    "        for page in pages:\n",
    "            contents.append(page.getText())\n",
    "        \n",
    "        print title\n",
    "        return contents\n",
    "    except:\n",
    "        print(\"No content found\")"
   ]
  },
  {
   "cell_type": "markdown",
   "metadata": {},
   "source": [
    "### Grab the content and store it to text file"
   ]
  },
  {
   "cell_type": "code",
   "execution_count": 12,
   "metadata": {
    "collapsed": false
   },
   "outputs": [
    {
     "ename": "TypeError",
     "evalue": "can only join an iterable",
     "output_type": "error",
     "traceback": [
      "\u001b[0;31m---------------------------------------------------------------------------\u001b[0m",
      "\u001b[0;31mTypeError\u001b[0m                                 Traceback (most recent call last)",
      "\u001b[0;32m<ipython-input-12-b01e9378e85b>\u001b[0m in \u001b[0;36m<module>\u001b[0;34m()\u001b[0m\n\u001b[1;32m     12\u001b[0m     \u001b[0;32mwith\u001b[0m \u001b[0mopen\u001b[0m\u001b[0;34m(\u001b[0m\u001b[0mnew_doc\u001b[0m\u001b[0;34m,\u001b[0m\u001b[0;34m\"wb\"\u001b[0m\u001b[0;34m)\u001b[0m \u001b[0;32mas\u001b[0m \u001b[0msite\u001b[0m\u001b[0;34m:\u001b[0m\u001b[0;34m\u001b[0m\u001b[0m\n\u001b[1;32m     13\u001b[0m         \u001b[0mcontent\u001b[0m \u001b[0;34m=\u001b[0m \u001b[0mbuild_content\u001b[0m\u001b[0;34m(\u001b[0m\u001b[0msoup\u001b[0m\u001b[0;34m)\u001b[0m\u001b[0;34m\u001b[0m\u001b[0m\n\u001b[0;32m---> 14\u001b[0;31m         \u001b[0msite\u001b[0m\u001b[0;34m.\u001b[0m\u001b[0mwrite\u001b[0m\u001b[0;34m(\u001b[0m\u001b[0;34m\", \"\u001b[0m\u001b[0;34m.\u001b[0m\u001b[0mjoin\u001b[0m\u001b[0;34m(\u001b[0m\u001b[0mcontent\u001b[0m\u001b[0;34m)\u001b[0m \u001b[0;34m+\u001b[0m \u001b[0;34m'\\n'\u001b[0m\u001b[0;34m)\u001b[0m\u001b[0;34m\u001b[0m\u001b[0m\n\u001b[0m\u001b[1;32m     15\u001b[0m \u001b[0;31m#     print url\u001b[0m\u001b[0;34m\u001b[0m\u001b[0;34m\u001b[0m\u001b[0m\n",
      "\u001b[0;31mTypeError\u001b[0m: can only join an iterable"
     ]
    }
   ],
   "source": [
    "import sys\n",
    "reload(sys)\n",
    "sys.setdefaultencoding('utf-8')\n",
    "\n",
    "for idx, url in enumerate(urls):\n",
    "    print \"Processing {}...\".format(url)\n",
    "    page = rq.get(url[0])\n",
    "    soup = BeautifulSoup(page.text, \"html.parser\")\n",
    "    \n",
    "    new_doc = 'output/detik/' + str(idx) + \".txt\"\n",
    "    \n",
    "    with open(new_doc,\"wb\") as site:\n",
    "        content = build_content(soup)        \n",
    "        site.write(\", \".join(content) + '\\n')\n",
    "    print url"
   ]
  },
  {
   "cell_type": "code",
   "execution_count": null,
   "metadata": {
    "collapsed": true
   },
   "outputs": [],
   "source": [
    "print \"OK\""
   ]
  },
  {
   "cell_type": "code",
   "execution_count": null,
   "metadata": {
    "collapsed": true
   },
   "outputs": [],
   "source": []
  }
 ],
 "metadata": {
  "kernelspec": {
   "display_name": "Python 2",
   "language": "python",
   "name": "python2"
  },
  "language_info": {
   "codemirror_mode": {
    "name": "ipython",
    "version": 2
   },
   "file_extension": ".py",
   "mimetype": "text/x-python",
   "name": "python",
   "nbconvert_exporter": "python",
   "pygments_lexer": "ipython2",
   "version": "2.7.10"
  }
 },
 "nbformat": 4,
 "nbformat_minor": 0
}
