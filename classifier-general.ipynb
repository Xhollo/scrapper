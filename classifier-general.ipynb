{
 "cells": [
  {
   "cell_type": "markdown",
   "metadata": {},
   "source": [
    "# Glitz Content Classifier\n",
    "\n",
    "** About **\n",
    "- Name: Antoni F. Setiawan\n",
    "- Occupation: Lead Software Developer and Data Scientist at Adplus\n",
    "- Email: antoni.fs@gmail.com\n",
    "- Github: @antonifs\n",
    "- LinkedIn: @antonifs\n",
    "\n",
    "\n",
    "\n",
    "** Description **\n",
    "\n",
    "Notebook ini akan mengeksplorasi dataset dari masing-masing kategori di website Glitz yang akan dijadikan data train dan data tes.\n",
    "\n",
    "** Hipotesis **\n",
    "\n",
    "Semua konten yang dipublikasikan di website Glitz memiliki kategori, dan setiap kategori mempunyai karakter sehingga bisa diklasifikasikan kategorinya; diformulasikan melalui pattern kontennya.\n",
    "\n",
    "### Our Trail Map\n",
    "1. Eksplorasi data\n",
    "2. Stopword removal\n",
    "3. Steaming\n",
    "4. Topic Modeling with LDA\n",
    "5. Word vector model with word2vec\n",
    "6. Evaluation"
   ]
  },
  {
   "cell_type": "code",
   "execution_count": 2,
   "metadata": {
    "collapsed": true
   },
   "outputs": [],
   "source": [
    "import pandas as pd\n",
    "import glob"
   ]
  },
  {
   "cell_type": "code",
   "execution_count": 3,
   "metadata": {
    "collapsed": false
   },
   "outputs": [
    {
     "data": {
      "text/plain": [
       "['./output/Sport_IAB17/009fc2d165000da03490892b3a31f2745f0e2f77.txt',\n",
       " './output/Sport_IAB17/017be6b4117c7e4641706561a4d9fd9edc28d221.txt',\n",
       " './output/Sport_IAB17/03ffb77a1ad2f80e75321d439b05efcd0fb78c91.txt',\n",
       " './output/Sport_IAB17/0440df7b9f81b0dd1fbb4fb42a7f4dbc7ed74dee.txt']"
      ]
     },
     "execution_count": 3,
     "metadata": {},
     "output_type": "execute_result"
    }
   ],
   "source": [
    "sport_filenames = glob.glob('./output/Sport_IAB17/*.txt')\n",
    "sport_filenames[:4]"
   ]
  },
  {
   "cell_type": "code",
   "execution_count": 4,
   "metadata": {
    "collapsed": false
   },
   "outputs": [
    {
     "data": {
      "text/plain": [
       "['./output/Style_and_Fashion_IAB18/00d3c2f805c8fff26bfeeec83b3cfd8100943724.txt',\n",
       " './output/Style_and_Fashion_IAB18/04f82c847e198d38b39e05fa5ed282b7bf99beb8.txt',\n",
       " './output/Style_and_Fashion_IAB18/05e38a6dfa6465fd114633f9020ff4f39755e235.txt',\n",
       " './output/Style_and_Fashion_IAB18/07ef9408f3ed2ec09b52ab9a0b05b8b4e3b00ebe.txt']"
      ]
     },
     "execution_count": 4,
     "metadata": {},
     "output_type": "execute_result"
    }
   ],
   "source": [
    "style_filenames = glob.glob('./output/Style_and_Fashion_IAB18/*.txt')\n",
    "style_filenames[:4]"
   ]
  },
  {
   "cell_type": "code",
   "execution_count": 5,
   "metadata": {
    "collapsed": false
   },
   "outputs": [
    {
     "data": {
      "text/plain": [
       "['./output/Technology_Computing_IAB19/04050a32b11ea9af3e51fd4047b2b97acbeacb88.txt',\n",
       " './output/Technology_Computing_IAB19/0849073880e97bbc182011604b209fd7e4d5dbaa.txt',\n",
       " './output/Technology_Computing_IAB19/092b0b12521c9e0de5b22db538de6f3c38e5c584.txt',\n",
       " './output/Technology_Computing_IAB19/0961f48410b3b2b0b8560fb311a8aead788b5827.txt']"
      ]
     },
     "execution_count": 5,
     "metadata": {},
     "output_type": "execute_result"
    }
   ],
   "source": [
    "tech_filenames = glob.glob('./output/Technology_Computing_IAB19/*.txt')\n",
    "tech_filenames[:4]"
   ]
  },
  {
   "cell_type": "code",
   "execution_count": 6,
   "metadata": {
    "collapsed": false
   },
   "outputs": [
    {
     "data": {
      "text/plain": [
       "['Kamis, 3 November 2016 - 07:15 wib  MEKSIKO \\xe2\\x80\\x93 Pembalap Ferrari, Sebastian Vettel, mengucapkan maaf yang sebesar-besarnya kepada Charlie Whiting dan Federasi Internasional Automotive (FIA). Permintaan maaf tersebut diungkapkan setelah ia berkata kasar usai berlaga di Grand Prix (GP) Meksiko.\\nSaat berlaga di Meksiko, Vettel memang melontarkan beberapa kata-kata kasar melalui siaran radio miliknya. Saat itu pembalap berkebangsaan Jerman tersebut sangat kesal ketika pembalap Red Bull, Max Verstappen, yang tidak memberikannya jalan usai menyelonong keluar lintasan.\\r\\n                  \\nBERITA REKOMENDASI\\n\\n\\nBrawn Bantah Jadi Calon Pengganti Ecclestone sebagai Bos F1Alonso Ingin McLaren-Honda Fokus pada KecepatanManajer Verstappen Bantah Kliennya Hancurkan F1\\nSaat ini Presiden FIA, Jean Todt, sedang melakukan investigasi mengenai perilaku Vettel yang berbicara kasar saat balapan. Oleh sebab itu Vettel yang mengaku bersalah, langsung membuat permintaan maaf yang sebesar-besarnya karena telah berlaku tidak sopan.\\n\\xe2\\x80\\x9cDia mengatakan Maaf. Dia cukup berani untuk mengatakan hal tersebut, mengingat ia telah melakukan kesalahan dan tidak terpaku dengan masalah pribadi. Namun saat ini kami masih menunggu keputusan bos (Todt) mengenai masalah ini,\\xe2\\x80\\x9d tutur Whiting, menyadur dari Sportsmole, Kamis (3/11/2016).\\nSelain itu FIA juga mengungkapkan jika Vettel juga membuat permintaan maaf tertulis sebesar-besarnya karena telah menghina Max Verstappen. Rencananya pembalap berusia 29 tahun tersebut akan menelepon pembalap berkebangsaan Belgia tersebut untuk memintaa maaf secara langsung.\\n\\t\\t\\t Saat berlaga di Meksiko, Vettel memang melontarkan beberapa kata-kata kasar melalui siaran radio miliknya. Saat itu pembalap berkebangsaan Jerman tersebut sangat kesal ketika pembalap Red Bull, Max Verstappen, yang tidak memberikannya jalan usai menyelonong keluar lintasan.\\r\\n                  \\nBERITA REKOMENDASI\\n\\n\\nBrawn Bantah Jadi Calon Pengganti Ecclestone sebagai Bos F1Alonso Ingin McLaren-Honda Fokus pada KecepatanManajer Verstappen Bantah Kliennya Hancurkan F1\\nSaat ini Presiden FIA, Jean Todt, sedang melakukan investigasi mengenai perilaku Vettel yang berbicara kasar saat balapan. Oleh sebab itu Vettel yang mengaku bersalah, langsung membuat permintaan maaf yang sebesar-besarnya karena telah berlaku tidak sopan.\\n\\xe2\\x80\\x9cDia mengatakan Maaf. Dia cukup berani untuk mengatakan hal tersebut, mengingat ia telah melakukan kesalahan dan tidak terpaku dengan masalah pribadi. Namun saat ini kami masih menunggu keputusan bos (Todt) mengenai masalah ini,\\xe2\\x80\\x9d tutur Whiting, menyadur dari Sportsmole, Kamis (3/11/2016).\\nSelain itu FIA juga mengungkapkan jika Vettel juga membuat permintaan maaf tertulis sebesar-besarnya karena telah menghina Max Verstappen. Rencananya pembalap berusia 29 tahun tersebut akan menelepon pembalap berkebangsaan Belgia tersebut untuk memintaa maaf secara langsung.\\n\\t\\t\\t Saat ini Presiden FIA, Jean Todt, sedang melakukan investigasi mengenai perilaku Vettel yang berbicara kasar saat balapan. Oleh sebab itu Vettel yang mengaku bersalah, langsung membuat permintaan maaf yang sebesar-besarnya karena telah berlaku tidak sopan.\\n\\xe2\\x80\\x9cDia mengatakan Maaf. Dia cukup berani untuk mengatakan hal tersebut, mengingat ia telah melakukan kesalahan dan tidak terpaku dengan masalah pribadi. Namun saat ini kami masih menunggu keputusan bos (Todt) mengenai masalah ini,\\xe2\\x80\\x9d tutur Whiting, menyadur dari Sportsmole, Kamis (3/11/2016).\\nSelain itu FIA juga mengungkapkan jika Vettel juga membuat permintaan maaf tertulis sebesar-besarnya karena telah menghina Max Verstappen. Rencananya pembalap berusia 29 tahun tersebut akan menelepon pembalap berkebangsaan Belgia tersebut untuk memintaa maaf secara langsung.\\n\\t\\t\\t \\xe2\\x80\\x9cDia mengatakan Maaf. Dia cukup berani untuk mengatakan hal tersebut, mengingat ia telah melakukan kesalahan dan tidak terpaku dengan masalah pribadi. Namun saat ini kami masih menunggu keputusan bos (Todt) mengenai masalah ini,\\xe2\\x80\\x9d tutur Whiting, menyadur dari Sportsmole, Kamis (3/11/2016).\\nSelain itu FIA juga mengungkapkan jika Vettel juga membuat permintaan maaf tertulis sebesar-besarnya karena telah menghina Max Verstappen. Rencananya pembalap berusia 29 tahun tersebut akan menelepon pembalap berkebangsaan Belgia tersebut untuk memintaa maaf secara langsung.\\n\\t\\t\\t Selain itu FIA juga mengungkapkan jika Vettel juga membuat permintaan maaf tertulis sebesar-besarnya karena telah menghina Max Verstappen. Rencananya pembalap berusia 29 tahun tersebut akan menelepon pembalap berkebangsaan Belgia tersebut untuk memintaa maaf secara langsung.\\n\\t\\t\\t Brawn Bantah Jadi Calon Pengganti Ecclestone sebagai Bos F1 Capelli: Polemik Monza Harus Diselesaikan Sesegera Mungkin Alonso Ingin McLaren-Honda Fokus pada Kecepatan Legenda F1 Terkesan dengan Penampilan Apik Raikkonen Musim 2016 Perez: F1 2017 Akan Sulit untuk Lakukan Overtake Manajer Verstappen Bantah Kliennya Hancurkan F1 Renault Isyaratkan Magnussen Bertahan di Musim 2017 Esteban Ocon Dikabarkan Sepakat Gabung Force India \\xc2\\xa9 2007 - 2016 okezone.com, All Rights Reserved  / rendering in 0.0689 seconds [182]\\n']"
      ]
     },
     "execution_count": 6,
     "metadata": {},
     "output_type": "execute_result"
    }
   ],
   "source": [
    "sport_text = []\n",
    "for filename in sport_filenames:\n",
    "    with open(filename) as f:\n",
    "        sport_text.append(f.read())\n",
    "\n",
    "sport_text[1:2]"
   ]
  },
  {
   "cell_type": "code",
   "execution_count": 7,
   "metadata": {
    "collapsed": false
   },
   "outputs": [
    {
     "data": {
      "text/plain": [
       "[\"Berita perceraian Brad Pitt dan Angelina Jolie tentu mengagetkan banyak pihak. Kebersamaan mereka selama 10 tahun tentu membuat banyak netizen ikut sedih dengan berita perceraian mereka. Berbagai dugaan akan penyebab perceraian mereka pun bermunculan. Salah satunya adalah perselingkuhan antara Brad Pitt dengan lawan mainnya di film Allied, Marion Cotillard. Melihat adanya kesalahpahaman akan berita yang beredar, Cotillard pun langsung menepis berita tersebut dan mengatakan bahwa dirinya justru tengah mengandung anak kedua dari Guillaume Canet, pasangannya. \\xe2\\x80\\x9cFirstly, many years ago, I met the man of my life, father of our son and of the baby we are expecting. He is my love, my best friend, the only one that I need. Secondly to those who have indicated that I am devastated, I am very well thank you,\\xe2\\x80\\x9d\\xc2\\xa0ungkap Cotillard.\\xc2\\xa0 \\xe2\\x80\\x9cThis crafted conversation isn\\xe2\\x80\\x99t distressing. And to all the media and the haters who are quick to pass judgment, I sincerely wish you a swift recovery. Finally, I do very much wish that Angelina and Brad, both whom I deeply respect, will find peace in this very tumultuous moment. With all my love Marion,\\xe2\\x80\\x9d lanjut wanita berusia 40 tahun ini dilansir dari News.com.au.\\xc2\\xa0 Lalu, apa sebenarnya penyebab perceraian Brangelina? Menurut Dailymail.co.uk, Pitt sempat adu argumen dengan salah satu anaknya, Maddox, di dalam pesawat pribadinya saat perjalanan dari Prancis minggu lalu. Dalam media tersebut disebutkan bahwa hal inilah yang memicu Jolie untuk melayangkan surat perceraian pada suaminya. Saat ini, FBI sedang menginvestigasi lebih lanjut mengenai berita tersebut.  \\xe2\\x80\\x9cIn response to your inquiry regarding allegations within the special aircraft jurisdiction of the United States; specifically, an aircraft carrying Mr. Brad Pitt and his children, the FBI is continuing to gather facts and will evaluate whether an investigation at the federal level will be pursued,\\xe2\\x80\\x9d ungkap juru bicara FBI, Laura Eimiller. Menurut dugaan, pertengkaran Pitt dengan anaknya yang berusia 15 tahun itu terjadi diawali dengan adu mulut, meskipun belum diketahui apa yang diperbincangkannya. Selanjutnya, Maddox dan Pitt mulai saling berteriak, sebelum akhirnya keduanya mulai mengeluarkan kata-kata kasar di landasan saat pesawat mendarat. Kondisi inilah yang menjadi pemicu perceraian pasangan yang bermain di film Mr. & Mrs. Smith. Setelah surat perceraian dilayangkan, Pitt sempat meminta pada Jolie untuk kembali memikirkan keputusannya, namun Jolie menolak. \\xe2\\x80\\x9cThere was clearly a breaking point, where she'd just had enough. He may have been broken himself and said he couldn't go on, and she reacted. This has been difficult for a while,\\xe2\\x80\\x9d ungkap salah satu sumber yang dilansir dari Dailymail.co.uk.\\n\"]"
      ]
     },
     "execution_count": 7,
     "metadata": {},
     "output_type": "execute_result"
    }
   ],
   "source": [
    "style_text = []\n",
    "for filename in style_filenames:\n",
    "    with open(filename) as f:\n",
    "        style_text.append(f.read())\n",
    "\n",
    "style_text[1:2]"
   ]
  },
  {
   "cell_type": "code",
   "execution_count": 8,
   "metadata": {
    "collapsed": false
   },
   "outputs": [
    {
     "data": {
      "text/plain": [
       "['KOMPAS.com - Indocomtech 2016 resmi dibuka pada Rabu (2/11/2016). Seperti biasa, pameran gadget dan teknologi tahunan yang sekarang mengusung tajuk baru \\xe2\\x80\\x9cBRI Indocomtech\\xe2\\x80\\x9d ini dilangsungkan di Jakarta Convention Center, Senayan.Sebanyak 300 perserta menempati area eksebisi seluas 17.000 meter persegi di Hall A, Prefunction Hall A, Hall B, Prefunction Hall B, area Cenderawasih, dan Main Lobby JCC. Para peserta berasal dari berbagai bidang, termasuk telekomunikasi, komputer, software, games, smartphone, serta produk elektronik dan aksesori.Baca: Bisa Tukar Tambah Android dengan iPhone 6 di Indocomtech 2016 Selain eksibitor dalam negeri, seperti tahun sebelumnya, BRI Indocomtech 2016 turut menghadirkan area paviliun khusus untuk produsen TIK dari China, Taiwan, dan Hongkong yang berisi lebih dari 100 peserta.Berbekal kamera Samsung Gear 360, KompasTekno sempat berkeliling dan menjelajahi arena pameran untuk merekam apa saja yang ada di sana, dalam video 360 derajat.Tayangan selengkapnya bisa dilihat di bawah. Gerakkan mouse atau pointer dalam jendela video untuk melihat pemandangan dari berbagai arah. Bisa juga ditonton dengan headset VR seperti Google Cardboard.Baca: Ada Program Trade In Smartphone Android di Indocomtech 2016 Indocomtech 2016 akan berlangsung hingga Minggu, 6 November mendatang. Harga tiket masuknya Rp 15.000 untuk hari kerja dan Rp 20.000 untuk akhir pekan. Jika Anda membaca dari browser mobile, untuk menikmati konten 360 derajat saat ini Anda harus membuka video tersebut dari aplikasi YouTube. Klik tautan berikut ini untuk melihat video 360 tersebut: https://www.youtube.com/watch?v=BrkqhauZQEk \\n']"
      ]
     },
     "execution_count": 8,
     "metadata": {},
     "output_type": "execute_result"
    }
   ],
   "source": [
    "tech_text = []\n",
    "for filename in tech_filenames:\n",
    "    with open(filename) as f:\n",
    "        tech_text.append(f.read())\n",
    "\n",
    "tech_text[1:2]"
   ]
  },
  {
   "cell_type": "code",
   "execution_count": 13,
   "metadata": {
    "collapsed": true
   },
   "outputs": [],
   "source": [
    "df_sport = pd.DataFrame({'text': sport_text, 'class': 'sport'})"
   ]
  },
  {
   "cell_type": "code",
   "execution_count": 14,
   "metadata": {
    "collapsed": false
   },
   "outputs": [],
   "source": [
    "df_style = pd.DataFrame({'text': style_text, 'class': 'style'})"
   ]
  },
  {
   "cell_type": "code",
   "execution_count": 15,
   "metadata": {
    "collapsed": false
   },
   "outputs": [],
   "source": [
    "df_tech = pd.DataFrame({'text': tech_text, 'class': 'tech'})"
   ]
  },
  {
   "cell_type": "code",
   "execution_count": 16,
   "metadata": {
    "collapsed": false
   },
   "outputs": [],
   "source": [
    "frames = [df_sport, df_style, df_tech]\n",
    "\n",
    "data = pd.concat(frames, ignore_index=True)"
   ]
  },
  {
   "cell_type": "code",
   "execution_count": 17,
   "metadata": {
    "collapsed": false
   },
   "outputs": [],
   "source": [
    "data['label'] = data['class'].map({'sport': 1, 'style': 2, 'tech': 3})"
   ]
  },
  {
   "cell_type": "code",
   "execution_count": 29,
   "metadata": {
    "collapsed": false
   },
   "outputs": [
    {
     "data": {
      "text/html": [
       "<div>\n",
       "<table border=\"1\" class=\"dataframe\">\n",
       "  <thead>\n",
       "    <tr style=\"text-align: right;\">\n",
       "      <th></th>\n",
       "      <th>class</th>\n",
       "      <th>text</th>\n",
       "      <th>label</th>\n",
       "    </tr>\n",
       "  </thead>\n",
       "  <tbody>\n",
       "    <tr>\n",
       "      <th>0</th>\n",
       "      <td>sport</td>\n",
       "      <td>REPORTER JAKARTA, Kompas.com - Di bidang olah ...</td>\n",
       "      <td>1</td>\n",
       "    </tr>\n",
       "    <tr>\n",
       "      <th>1</th>\n",
       "      <td>sport</td>\n",
       "      <td>Kamis, 3 November 2016 - 07:15 wib  MEKSIKO – ...</td>\n",
       "      <td>1</td>\n",
       "    </tr>\n",
       "    <tr>\n",
       "      <th>2</th>\n",
       "      <td>sport</td>\n",
       "      <td>\\n                        ©2008 - 2015 PT. Kom...</td>\n",
       "      <td>1</td>\n",
       "    </tr>\n",
       "    <tr>\n",
       "      <th>3</th>\n",
       "      <td>sport</td>\n",
       "      <td>BILBAO, Kompas.com - Indonesia menang telak 5-...</td>\n",
       "      <td>1</td>\n",
       "    </tr>\n",
       "    <tr>\n",
       "      <th>4</th>\n",
       "      <td>sport</td>\n",
       "      <td>TEMPO.CO, Jakarta - Maria Selena, Duta Pekan O...</td>\n",
       "      <td>1</td>\n",
       "    </tr>\n",
       "    <tr>\n",
       "      <th>5</th>\n",
       "      <td>sport</td>\n",
       "      <td>Senin, 31 Oktober 2016 - 17:41 wib Niki Lauda ...</td>\n",
       "      <td>1</td>\n",
       "    </tr>\n",
       "    <tr>\n",
       "      <th>6</th>\n",
       "      <td>sport</td>\n",
       "      <td>\\n</td>\n",
       "      <td>1</td>\n",
       "    </tr>\n",
       "    <tr>\n",
       "      <th>7</th>\n",
       "      <td>sport</td>\n",
       "      <td>Jum'at, 28 Oktober 2016 - 19:22 wib Agung Ali ...</td>\n",
       "      <td>1</td>\n",
       "    </tr>\n",
       "    <tr>\n",
       "      <th>8</th>\n",
       "      <td>sport</td>\n",
       "      <td>TEMPO.CO, Rio de Janeiro - Usain Bolt menjadi ...</td>\n",
       "      <td>1</td>\n",
       "    </tr>\n",
       "    <tr>\n",
       "      <th>9</th>\n",
       "      <td>sport</td>\n",
       "      <td>\\n</td>\n",
       "      <td>1</td>\n",
       "    </tr>\n",
       "    <tr>\n",
       "      <th>10</th>\n",
       "      <td>sport</td>\n",
       "      <td>\\n</td>\n",
       "      <td>1</td>\n",
       "    </tr>\n",
       "    <tr>\n",
       "      <th>11</th>\n",
       "      <td>sport</td>\n",
       "      <td>Kamis, 3 November 2016 - 10:15 wib  MEKSIKO – ...</td>\n",
       "      <td>1</td>\n",
       "    </tr>\n",
       "    <tr>\n",
       "      <th>12</th>\n",
       "      <td>sport</td>\n",
       "      <td>Minggu, 30 Oktober 2016 - 01:33 wib Aiman Cahy...</td>\n",
       "      <td>1</td>\n",
       "    </tr>\n",
       "    <tr>\n",
       "      <th>13</th>\n",
       "      <td>sport</td>\n",
       "      <td>\\n</td>\n",
       "      <td>1</td>\n",
       "    </tr>\n",
       "    <tr>\n",
       "      <th>14</th>\n",
       "      <td>sport</td>\n",
       "      <td>REPUBLIKA.CO.ID, MILAN -- Inter Milan dikabark...</td>\n",
       "      <td>1</td>\n",
       "    </tr>\n",
       "    <tr>\n",
       "      <th>15</th>\n",
       "      <td>sport</td>\n",
       "      <td>Kamis, 13 Oktober 2016 - 13:07 wib Nick Kyrgio...</td>\n",
       "      <td>1</td>\n",
       "    </tr>\n",
       "    <tr>\n",
       "      <th>16</th>\n",
       "      <td>sport</td>\n",
       "      <td>Rabu, 2 November 2016 - 21:09 wib Ni Nengah Wi...</td>\n",
       "      <td>1</td>\n",
       "    </tr>\n",
       "    <tr>\n",
       "      <th>17</th>\n",
       "      <td>sport</td>\n",
       "      <td>BANDUNG, KOMPAS.com - Sepasang suami-istri yan...</td>\n",
       "      <td>1</td>\n",
       "    </tr>\n",
       "    <tr>\n",
       "      <th>18</th>\n",
       "      <td>sport</td>\n",
       "      <td>BANDUNG, KOMPAS.com - Perjalanan hidup dan kar...</td>\n",
       "      <td>1</td>\n",
       "    </tr>\n",
       "    <tr>\n",
       "      <th>19</th>\n",
       "      <td>sport</td>\n",
       "      <td>Selasa, 1 November 2016 - 04:47 wib Bernie Ecc...</td>\n",
       "      <td>1</td>\n",
       "    </tr>\n",
       "    <tr>\n",
       "      <th>20</th>\n",
       "      <td>sport</td>\n",
       "      <td>\\n</td>\n",
       "      <td>1</td>\n",
       "    </tr>\n",
       "    <tr>\n",
       "      <th>21</th>\n",
       "      <td>sport</td>\n",
       "      <td>Senin, 31 Oktober 2016 - 17:11 wib Lintasan To...</td>\n",
       "      <td>1</td>\n",
       "    </tr>\n",
       "    <tr>\n",
       "      <th>22</th>\n",
       "      <td>sport</td>\n",
       "      <td>KOMPAS.com - Gelandang Barcelona, Arda Turan, ...</td>\n",
       "      <td>1</td>\n",
       "    </tr>\n",
       "    <tr>\n",
       "      <th>23</th>\n",
       "      <td>sport</td>\n",
       "      <td>Kamis, 3 November 2016 - 14:25 wib Suasana bal...</td>\n",
       "      <td>1</td>\n",
       "    </tr>\n",
       "    <tr>\n",
       "      <th>24</th>\n",
       "      <td>sport</td>\n",
       "      <td>Selasa, 18 Oktober 2016 - 07:41 wib Wisma atle...</td>\n",
       "      <td>1</td>\n",
       "    </tr>\n",
       "    <tr>\n",
       "      <th>25</th>\n",
       "      <td>sport</td>\n",
       "      <td>SYDNEY, Kompas.com - Seorang pria peselancar m...</td>\n",
       "      <td>1</td>\n",
       "    </tr>\n",
       "    <tr>\n",
       "      <th>26</th>\n",
       "      <td>sport</td>\n",
       "      <td>Minggu, 30 Oktober 2016 - 02:16 wib  MEXICO CI...</td>\n",
       "      <td>1</td>\n",
       "    </tr>\n",
       "    <tr>\n",
       "      <th>27</th>\n",
       "      <td>sport</td>\n",
       "      <td>\\n</td>\n",
       "      <td>1</td>\n",
       "    </tr>\n",
       "    <tr>\n",
       "      <th>28</th>\n",
       "      <td>sport</td>\n",
       "      <td>Senin, 17 Oktober 2016 - 05:14 wib  SURABAYA –...</td>\n",
       "      <td>1</td>\n",
       "    </tr>\n",
       "    <tr>\n",
       "      <th>29</th>\n",
       "      <td>sport</td>\n",
       "      <td>Kamis, 20 Oktober 2016 - 17:15 wib Miswan (Fot...</td>\n",
       "      <td>1</td>\n",
       "    </tr>\n",
       "    <tr>\n",
       "      <th>...</th>\n",
       "      <td>...</td>\n",
       "      <td>...</td>\n",
       "      <td>...</td>\n",
       "    </tr>\n",
       "    <tr>\n",
       "      <th>387</th>\n",
       "      <td>tech</td>\n",
       "      <td>BEIJING, KOMPAS.com - Meja biliar, rumah anjin...</td>\n",
       "      <td>3</td>\n",
       "    </tr>\n",
       "    <tr>\n",
       "      <th>388</th>\n",
       "      <td>tech</td>\n",
       "      <td></td>\n",
       "      <td>3</td>\n",
       "    </tr>\n",
       "    <tr>\n",
       "      <th>389</th>\n",
       "      <td>tech</td>\n",
       "      <td>KOMPAS.com - Facebook memiliki fitur bernama “...</td>\n",
       "      <td>3</td>\n",
       "    </tr>\n",
       "    <tr>\n",
       "      <th>390</th>\n",
       "      <td>tech</td>\n",
       "      <td>KOMPAS.com - Barrack Obama bisa dibilang sebag...</td>\n",
       "      <td>3</td>\n",
       "    </tr>\n",
       "    <tr>\n",
       "      <th>391</th>\n",
       "      <td>tech</td>\n",
       "      <td>KOMPAS.com - Amazon sedang bersiap melebarkan ...</td>\n",
       "      <td>3</td>\n",
       "    </tr>\n",
       "    <tr>\n",
       "      <th>392</th>\n",
       "      <td>tech</td>\n",
       "      <td></td>\n",
       "      <td>3</td>\n",
       "    </tr>\n",
       "    <tr>\n",
       "      <th>393</th>\n",
       "      <td>tech</td>\n",
       "      <td></td>\n",
       "      <td>3</td>\n",
       "    </tr>\n",
       "    <tr>\n",
       "      <th>394</th>\n",
       "      <td>tech</td>\n",
       "      <td></td>\n",
       "      <td>3</td>\n",
       "    </tr>\n",
       "    <tr>\n",
       "      <th>395</th>\n",
       "      <td>tech</td>\n",
       "      <td></td>\n",
       "      <td>3</td>\n",
       "    </tr>\n",
       "    <tr>\n",
       "      <th>396</th>\n",
       "      <td>tech</td>\n",
       "      <td>TechCracky – Blog Teknologi Indonesia  You are...</td>\n",
       "      <td>3</td>\n",
       "    </tr>\n",
       "    <tr>\n",
       "      <th>397</th>\n",
       "      <td>tech</td>\n",
       "      <td>KOMPAS.com - Kementerian Komunikasi dan Inform...</td>\n",
       "      <td>3</td>\n",
       "    </tr>\n",
       "    <tr>\n",
       "      <th>398</th>\n",
       "      <td>tech</td>\n",
       "      <td>Your Browser didnt support iframe\\n</td>\n",
       "      <td>3</td>\n",
       "    </tr>\n",
       "    <tr>\n",
       "      <th>399</th>\n",
       "      <td>tech</td>\n",
       "      <td></td>\n",
       "      <td>3</td>\n",
       "    </tr>\n",
       "    <tr>\n",
       "      <th>400</th>\n",
       "      <td>tech</td>\n",
       "      <td></td>\n",
       "      <td>3</td>\n",
       "    </tr>\n",
       "    <tr>\n",
       "      <th>401</th>\n",
       "      <td>tech</td>\n",
       "      <td>KOMPAS.com - Jumlah pengguna aktif bulanan Fac...</td>\n",
       "      <td>3</td>\n",
       "    </tr>\n",
       "    <tr>\n",
       "      <th>402</th>\n",
       "      <td>tech</td>\n",
       "      <td></td>\n",
       "      <td>3</td>\n",
       "    </tr>\n",
       "    <tr>\n",
       "      <th>403</th>\n",
       "      <td>tech</td>\n",
       "      <td></td>\n",
       "      <td>3</td>\n",
       "    </tr>\n",
       "    <tr>\n",
       "      <th>404</th>\n",
       "      <td>tech</td>\n",
       "      <td>Access to this resource on the server is denie...</td>\n",
       "      <td>3</td>\n",
       "    </tr>\n",
       "    <tr>\n",
       "      <th>405</th>\n",
       "      <td>tech</td>\n",
       "      <td></td>\n",
       "      <td>3</td>\n",
       "    </tr>\n",
       "    <tr>\n",
       "      <th>406</th>\n",
       "      <td>tech</td>\n",
       "      <td>KOMPAS.com - Akhir 2014 lalu, beredar foto-fot...</td>\n",
       "      <td>3</td>\n",
       "    </tr>\n",
       "    <tr>\n",
       "      <th>407</th>\n",
       "      <td>tech</td>\n",
       "      <td>KOMPAS.com - Pendiri Wikileaks Julian Assange ...</td>\n",
       "      <td>3</td>\n",
       "    </tr>\n",
       "    <tr>\n",
       "      <th>408</th>\n",
       "      <td>tech</td>\n",
       "      <td>KOMPAS.com - Telkomsel mengumumkan 20 finalis ...</td>\n",
       "      <td>3</td>\n",
       "    </tr>\n",
       "    <tr>\n",
       "      <th>409</th>\n",
       "      <td>tech</td>\n",
       "      <td>JAKARTA, KOMPAS.com - Survei yang dilakukan As...</td>\n",
       "      <td>3</td>\n",
       "    </tr>\n",
       "    <tr>\n",
       "      <th>410</th>\n",
       "      <td>tech</td>\n",
       "      <td>JAKARTA, KOMPAS.com — Survei yang dilakukan ol...</td>\n",
       "      <td>3</td>\n",
       "    </tr>\n",
       "    <tr>\n",
       "      <th>411</th>\n",
       "      <td>tech</td>\n",
       "      <td>KOMPAS.com - Sistem operasi mobile terbaru App...</td>\n",
       "      <td>3</td>\n",
       "    </tr>\n",
       "    <tr>\n",
       "      <th>412</th>\n",
       "      <td>tech</td>\n",
       "      <td></td>\n",
       "      <td>3</td>\n",
       "    </tr>\n",
       "    <tr>\n",
       "      <th>413</th>\n",
       "      <td>tech</td>\n",
       "      <td>KOMPAS.com — Kamera Google Street View yang me...</td>\n",
       "      <td>3</td>\n",
       "    </tr>\n",
       "    <tr>\n",
       "      <th>414</th>\n",
       "      <td>tech</td>\n",
       "      <td>KOMPAS.com - Kamis (13/10/2016) kemarin, CEO G...</td>\n",
       "      <td>3</td>\n",
       "    </tr>\n",
       "    <tr>\n",
       "      <th>415</th>\n",
       "      <td>tech</td>\n",
       "      <td>KOMPAS.com - Musim panas 2016, Juni sampai Sep...</td>\n",
       "      <td>3</td>\n",
       "    </tr>\n",
       "    <tr>\n",
       "      <th>416</th>\n",
       "      <td>tech</td>\n",
       "      <td></td>\n",
       "      <td>3</td>\n",
       "    </tr>\n",
       "  </tbody>\n",
       "</table>\n",
       "<p>417 rows × 3 columns</p>\n",
       "</div>"
      ],
      "text/plain": [
       "     class                                               text  label\n",
       "0    sport  REPORTER JAKARTA, Kompas.com - Di bidang olah ...      1\n",
       "1    sport  Kamis, 3 November 2016 - 07:15 wib  MEKSIKO – ...      1\n",
       "2    sport  \\n                        ©2008 - 2015 PT. Kom...      1\n",
       "3    sport  BILBAO, Kompas.com - Indonesia menang telak 5-...      1\n",
       "4    sport  TEMPO.CO, Jakarta - Maria Selena, Duta Pekan O...      1\n",
       "5    sport  Senin, 31 Oktober 2016 - 17:41 wib Niki Lauda ...      1\n",
       "6    sport                                                 \\n      1\n",
       "7    sport  Jum'at, 28 Oktober 2016 - 19:22 wib Agung Ali ...      1\n",
       "8    sport  TEMPO.CO, Rio de Janeiro - Usain Bolt menjadi ...      1\n",
       "9    sport                                                 \\n      1\n",
       "10   sport                                                 \\n      1\n",
       "11   sport  Kamis, 3 November 2016 - 10:15 wib  MEKSIKO – ...      1\n",
       "12   sport  Minggu, 30 Oktober 2016 - 01:33 wib Aiman Cahy...      1\n",
       "13   sport                                                 \\n      1\n",
       "14   sport  REPUBLIKA.CO.ID, MILAN -- Inter Milan dikabark...      1\n",
       "15   sport  Kamis, 13 Oktober 2016 - 13:07 wib Nick Kyrgio...      1\n",
       "16   sport  Rabu, 2 November 2016 - 21:09 wib Ni Nengah Wi...      1\n",
       "17   sport  BANDUNG, KOMPAS.com - Sepasang suami-istri yan...      1\n",
       "18   sport  BANDUNG, KOMPAS.com - Perjalanan hidup dan kar...      1\n",
       "19   sport  Selasa, 1 November 2016 - 04:47 wib Bernie Ecc...      1\n",
       "20   sport                                                 \\n      1\n",
       "21   sport  Senin, 31 Oktober 2016 - 17:11 wib Lintasan To...      1\n",
       "22   sport  KOMPAS.com - Gelandang Barcelona, Arda Turan, ...      1\n",
       "23   sport  Kamis, 3 November 2016 - 14:25 wib Suasana bal...      1\n",
       "24   sport  Selasa, 18 Oktober 2016 - 07:41 wib Wisma atle...      1\n",
       "25   sport  SYDNEY, Kompas.com - Seorang pria peselancar m...      1\n",
       "26   sport  Minggu, 30 Oktober 2016 - 02:16 wib  MEXICO CI...      1\n",
       "27   sport                                                 \\n      1\n",
       "28   sport  Senin, 17 Oktober 2016 - 05:14 wib  SURABAYA –...      1\n",
       "29   sport  Kamis, 20 Oktober 2016 - 17:15 wib Miswan (Fot...      1\n",
       "..     ...                                                ...    ...\n",
       "387   tech  BEIJING, KOMPAS.com - Meja biliar, rumah anjin...      3\n",
       "388   tech                                                         3\n",
       "389   tech  KOMPAS.com - Facebook memiliki fitur bernama “...      3\n",
       "390   tech  KOMPAS.com - Barrack Obama bisa dibilang sebag...      3\n",
       "391   tech  KOMPAS.com - Amazon sedang bersiap melebarkan ...      3\n",
       "392   tech                                                         3\n",
       "393   tech                                                         3\n",
       "394   tech                                                         3\n",
       "395   tech                                                         3\n",
       "396   tech  TechCracky – Blog Teknologi Indonesia  You are...      3\n",
       "397   tech  KOMPAS.com - Kementerian Komunikasi dan Inform...      3\n",
       "398   tech                Your Browser didnt support iframe\\n      3\n",
       "399   tech                                                         3\n",
       "400   tech                                                         3\n",
       "401   tech  KOMPAS.com - Jumlah pengguna aktif bulanan Fac...      3\n",
       "402   tech                                                         3\n",
       "403   tech                                                         3\n",
       "404   tech  Access to this resource on the server is denie...      3\n",
       "405   tech                                                         3\n",
       "406   tech  KOMPAS.com - Akhir 2014 lalu, beredar foto-fot...      3\n",
       "407   tech  KOMPAS.com - Pendiri Wikileaks Julian Assange ...      3\n",
       "408   tech  KOMPAS.com - Telkomsel mengumumkan 20 finalis ...      3\n",
       "409   tech  JAKARTA, KOMPAS.com - Survei yang dilakukan As...      3\n",
       "410   tech  JAKARTA, KOMPAS.com — Survei yang dilakukan ol...      3\n",
       "411   tech  KOMPAS.com - Sistem operasi mobile terbaru App...      3\n",
       "412   tech                                                         3\n",
       "413   tech  KOMPAS.com — Kamera Google Street View yang me...      3\n",
       "414   tech  KOMPAS.com - Kamis (13/10/2016) kemarin, CEO G...      3\n",
       "415   tech  KOMPAS.com - Musim panas 2016, Juni sampai Sep...      3\n",
       "416   tech                                                         3\n",
       "\n",
       "[417 rows x 3 columns]"
      ]
     },
     "execution_count": 29,
     "metadata": {},
     "output_type": "execute_result"
    }
   ],
   "source": [
    "data"
   ]
  },
  {
   "cell_type": "code",
   "execution_count": 26,
   "metadata": {
    "collapsed": false
   },
   "outputs": [
    {
     "data": {
      "text/plain": [
       "(280, 3)"
      ]
     },
     "execution_count": 26,
     "metadata": {},
     "output_type": "execute_result"
    }
   ],
   "source": [
    "data.shape"
   ]
  },
  {
   "cell_type": "code",
   "execution_count": 27,
   "metadata": {
    "collapsed": true
   },
   "outputs": [],
   "source": [
    "from sklearn.cross_validation import train_test_split"
   ]
  },
  {
   "cell_type": "code",
   "execution_count": 28,
   "metadata": {
    "collapsed": true
   },
   "outputs": [],
   "source": [
    "X = data.text\n",
    "Y = data.label"
   ]
  },
  {
   "cell_type": "code",
   "execution_count": 29,
   "metadata": {
    "collapsed": true
   },
   "outputs": [],
   "source": [
    "X_train, X_test, y_train, y_test = train_test_split(X, Y)"
   ]
  },
  {
   "cell_type": "code",
   "execution_count": 30,
   "metadata": {
    "collapsed": false
   },
   "outputs": [
    {
     "name": "stdout",
     "output_type": "stream",
     "text": [
      "(210,) (70,) (210,) (70,)\n"
     ]
    }
   ],
   "source": [
    "print X_train.shape, X_test.shape, y_train.shape, y_test.shape"
   ]
  },
  {
   "cell_type": "markdown",
   "metadata": {},
   "source": [
    "### Vectorize\n",
    "Content text pada dataframe dijadikan vector "
   ]
  },
  {
   "cell_type": "code",
   "execution_count": 31,
   "metadata": {
    "collapsed": true
   },
   "outputs": [],
   "source": [
    "from sklearn.feature_extraction.text import CountVectorizer\n",
    "vect = CountVectorizer()"
   ]
  },
  {
   "cell_type": "code",
   "execution_count": 32,
   "metadata": {
    "collapsed": true
   },
   "outputs": [],
   "source": [
    "vect.fit(X_train)\n",
    "X_train_dtm = vect.transform(X_train)"
   ]
  },
  {
   "cell_type": "code",
   "execution_count": 33,
   "metadata": {
    "collapsed": true
   },
   "outputs": [],
   "source": [
    "X_test_dtm = vect.transform(X_test)"
   ]
  },
  {
   "cell_type": "code",
   "execution_count": 34,
   "metadata": {
    "collapsed": true
   },
   "outputs": [],
   "source": [
    "from sklearn.naive_bayes import MultinomialNB\n",
    "nb = MultinomialNB()"
   ]
  },
  {
   "cell_type": "code",
   "execution_count": 35,
   "metadata": {
    "collapsed": false
   },
   "outputs": [
    {
     "name": "stdout",
     "output_type": "stream",
     "text": [
      "CPU times: user 2.19 ms, sys: 724 µs, total: 2.92 ms\n",
      "Wall time: 2.37 ms\n"
     ]
    },
    {
     "data": {
      "text/plain": [
       "MultinomialNB(alpha=1.0, class_prior=None, fit_prior=True)"
      ]
     },
     "execution_count": 35,
     "metadata": {},
     "output_type": "execute_result"
    }
   ],
   "source": [
    "%time nb.fit(X_train_dtm, y_train)"
   ]
  },
  {
   "cell_type": "code",
   "execution_count": 36,
   "metadata": {
    "collapsed": true
   },
   "outputs": [],
   "source": [
    "y_pred_class = nb.predict(X_test_dtm)"
   ]
  },
  {
   "cell_type": "code",
   "execution_count": 37,
   "metadata": {
    "collapsed": false
   },
   "outputs": [
    {
     "data": {
      "text/plain": [
       "0.0"
      ]
     },
     "execution_count": 37,
     "metadata": {},
     "output_type": "execute_result"
    }
   ],
   "source": [
    "from sklearn import metrics\n",
    "metrics.accuracy_score(y_test, y_pred_class)"
   ]
  },
  {
   "cell_type": "code",
   "execution_count": 38,
   "metadata": {
    "collapsed": false
   },
   "outputs": [
    {
     "data": {
      "text/plain": [
       "array([[0, 0, 3, 0, 0, 0, 4],\n",
       "       [0, 0, 1, 1, 0, 4, 4],\n",
       "       [1, 0, 0, 1, 0, 4, 8],\n",
       "       [0, 0, 2, 0, 0, 5, 3],\n",
       "       [0, 0, 0, 0, 0, 3, 3],\n",
       "       [1, 0, 4, 1, 0, 0, 4],\n",
       "       [1, 0, 5, 1, 0, 6, 0]])"
      ]
     },
     "execution_count": 38,
     "metadata": {},
     "output_type": "execute_result"
    }
   ],
   "source": [
    "metrics.confusion_matrix(y_test, y_pred_class)"
   ]
  },
  {
   "cell_type": "code",
   "execution_count": 39,
   "metadata": {
    "collapsed": true
   },
   "outputs": [],
   "source": [
    "df2_beauty = pd.DataFrame({'text': beauty_text, 'label': 0})\n",
    "df2_relationship = pd.DataFrame({'text': relationship_text, 'label': 1})"
   ]
  },
  {
   "cell_type": "code",
   "execution_count": 41,
   "metadata": {
    "collapsed": false
   },
   "outputs": [
    {
     "data": {
      "text/plain": [
       "(80, 2)"
      ]
     },
     "execution_count": 41,
     "metadata": {},
     "output_type": "execute_result"
    }
   ],
   "source": [
    "data2 = pd.concat([df2_beauty, df2_relationship], ignore_index=True)\n",
    "data2.shape"
   ]
  },
  {
   "cell_type": "code",
   "execution_count": 42,
   "metadata": {
    "collapsed": false
   },
   "outputs": [
    {
     "data": {
      "text/html": [
       "<div>\n",
       "<table border=\"1\" class=\"dataframe\">\n",
       "  <thead>\n",
       "    <tr style=\"text-align: right;\">\n",
       "      <th></th>\n",
       "      <th>class</th>\n",
       "      <th>text</th>\n",
       "      <th>label</th>\n",
       "    </tr>\n",
       "  </thead>\n",
       "  <tbody>\n",
       "    <tr>\n",
       "      <th>0</th>\n",
       "      <td>style</td>\n",
       "      <td>Jika sebelumnya Pevita Pearce dan Velove Vexia...</td>\n",
       "      <td>1</td>\n",
       "    </tr>\n",
       "    <tr>\n",
       "      <th>1</th>\n",
       "      <td>style</td>\n",
       "      <td>Tepat hari ini, 2 Oktober negara kita memperin...</td>\n",
       "      <td>1</td>\n",
       "    </tr>\n",
       "    <tr>\n",
       "      <th>2</th>\n",
       "      <td>style</td>\n",
       "      <td>\\n\\n \\n\\n \\n\\n \\n\\n \\n\\n Perhelatan mode berge...</td>\n",
       "      <td>1</td>\n",
       "    </tr>\n",
       "    <tr>\n",
       "      <th>3</th>\n",
       "      <td>style</td>\n",
       "      <td>\\n\\n \\n\\n \\n\\n \\n\\n \\n\\n \\n\\n \\n\\n \\n\\n \\n\\n \\...</td>\n",
       "      <td>1</td>\n",
       "    </tr>\n",
       "    <tr>\n",
       "      <th>4</th>\n",
       "      <td>style</td>\n",
       "      <td>Sangat beruntung tinggal di Indonesia. Dikelil...</td>\n",
       "      <td>1</td>\n",
       "    </tr>\n",
       "  </tbody>\n",
       "</table>\n",
       "</div>"
      ],
      "text/plain": [
       "   class                                               text  label\n",
       "0  style  Jika sebelumnya Pevita Pearce dan Velove Vexia...      1\n",
       "1  style  Tepat hari ini, 2 Oktober negara kita memperin...      1\n",
       "2  style  \\n\\n \\n\\n \\n\\n \\n\\n \\n\\n Perhelatan mode berge...      1\n",
       "3  style  \\n\\n \\n\\n \\n\\n \\n\\n \\n\\n \\n\\n \\n\\n \\n\\n \\n\\n \\...      1\n",
       "4  style  Sangat beruntung tinggal di Indonesia. Dikelil...      1"
      ]
     },
     "execution_count": 42,
     "metadata": {},
     "output_type": "execute_result"
    }
   ],
   "source": [
    "data.head()"
   ]
  },
  {
   "cell_type": "code",
   "execution_count": null,
   "metadata": {
    "collapsed": true
   },
   "outputs": [],
   "source": []
  }
 ],
 "metadata": {
  "kernelspec": {
   "display_name": "Python 2",
   "language": "python",
   "name": "python2"
  },
  "language_info": {
   "codemirror_mode": {
    "name": "ipython",
    "version": 2
   },
   "file_extension": ".py",
   "mimetype": "text/x-python",
   "name": "python",
   "nbconvert_exporter": "python",
   "pygments_lexer": "ipython2",
   "version": "2.7.10"
  }
 },
 "nbformat": 4,
 "nbformat_minor": 0
}
