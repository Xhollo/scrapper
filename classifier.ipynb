{
 "cells": [
  {
   "cell_type": "markdown",
   "metadata": {},
   "source": [
    "# Glitz Content Classifier\n",
    "\n",
    "** About **\n",
    "- Name: Antoni F. Setiawan\n",
    "- Occupation: Lead Software Developer and Data Scientist at Adplus\n",
    "- Email: antoni.fs@gmail.com\n",
    "- Github: @antonifs\n",
    "- LinkedIn: @antonifs\n",
    "\n",
    "\n",
    "\n",
    "** Description **\n",
    "\n",
    "Notebook ini akan mengeksplorasi dataset dari masing-masing kategori di website Glitz yang akan dijadikan data train dan data tes.\n",
    "\n",
    "** Hipotesis **\n",
    "\n",
    "Semua konten yang dipublikasikan di website Glitz memiliki kategori, dan setiap kategori mempunyai karakter sehingga bisa diklasifikasikan kategorinya; diformulasikan melalui pattern kontennya.\n",
    "\n",
    "### Our Trail Map\n",
    "1. Eksplorasi data\n",
    "2. Stopword removal\n",
    "3. Steaming\n",
    "4. Topic Modeling with LDA\n",
    "5. Word vector model with word2vec\n",
    "6. Evaluation"
   ]
  },
  {
   "cell_type": "code",
   "execution_count": 1,
   "metadata": {
    "collapsed": true
   },
   "outputs": [],
   "source": [
    "import pandas as pd\n",
    "import glob"
   ]
  },
  {
   "cell_type": "code",
   "execution_count": 2,
   "metadata": {
    "collapsed": false
   },
   "outputs": [
    {
     "data": {
      "text/plain": [
       "['./output/glitz/style/07b712e9da5f7142456e336d4b7c6439d8cb9516.txt',\n",
       " './output/glitz/style/09e9045cd2ae0fe88dab44fe7b2ce275bd316df0.txt',\n",
       " './output/glitz/style/0a6640d2ff0e1d1c3095e43fa2be21654340e152.txt',\n",
       " './output/glitz/style/0afad3c58d6facb9f816a466e0d02b75efffdf16.txt']"
      ]
     },
     "execution_count": 2,
     "metadata": {},
     "output_type": "execute_result"
    }
   ],
   "source": [
    "style_filenames = glob.glob('./output/glitz/style/*.txt')\n",
    "style_filenames[:4]"
   ]
  },
  {
   "cell_type": "code",
   "execution_count": 3,
   "metadata": {
    "collapsed": false
   },
   "outputs": [
    {
     "data": {
      "text/plain": [
       "['./output/glitz/beauty/0ab2c8d9067742a4322050ed4be708a8f0057754.txt',\n",
       " './output/glitz/beauty/123367c4eca66c6c70374d3a117425fa809b7c30.txt',\n",
       " './output/glitz/beauty/17557f0df2255fcbfe4165427440797f6abaf895.txt',\n",
       " './output/glitz/beauty/1b5df8470d04ae18f87989edc7d94f2147b1ae82.txt']"
      ]
     },
     "execution_count": 3,
     "metadata": {},
     "output_type": "execute_result"
    }
   ],
   "source": [
    "beauty_filenames = glob.glob('./output/glitz/beauty/*.txt')\n",
    "beauty_filenames[:4]"
   ]
  },
  {
   "cell_type": "code",
   "execution_count": 4,
   "metadata": {
    "collapsed": false
   },
   "outputs": [
    {
     "data": {
      "text/plain": [
       "['./output/glitz/wellness/0518148dc03040ffe28b4e16724dfe48f5fec53d.txt',\n",
       " './output/glitz/wellness/10f30a6f4522871775d37c45326aee5f772b1cf4.txt',\n",
       " './output/glitz/wellness/1cd9fc66df4fbae4106c4a5e5c95b7951646ed44.txt',\n",
       " './output/glitz/wellness/256d63c2546679c649fa8a3685e3e5902f9ffb7a.txt']"
      ]
     },
     "execution_count": 4,
     "metadata": {},
     "output_type": "execute_result"
    }
   ],
   "source": [
    "wellness_filenames = glob.glob('./output/glitz/wellness/*.txt')\n",
    "wellness_filenames[:4]"
   ]
  },
  {
   "cell_type": "code",
   "execution_count": 5,
   "metadata": {
    "collapsed": false
   },
   "outputs": [
    {
     "data": {
      "text/plain": [
       "['./output/glitz/entertainment/00ffbb0ae6751011edc803050f8e45daee5f9147.txt',\n",
       " './output/glitz/entertainment/11a8b0b24073ea43007628b4eb9eda1135e26631.txt',\n",
       " './output/glitz/entertainment/1809255aa1b90aad4df75b13636bf7aed25d1dfa.txt',\n",
       " './output/glitz/entertainment/19a8d6f46156d765f2496b58d26f9bec96715bb9.txt']"
      ]
     },
     "execution_count": 5,
     "metadata": {},
     "output_type": "execute_result"
    }
   ],
   "source": [
    "entertainment_filenames = glob.glob('./output/glitz/entertainment/*.txt')\n",
    "entertainment_filenames[:4]"
   ]
  },
  {
   "cell_type": "code",
   "execution_count": 6,
   "metadata": {
    "collapsed": false
   },
   "outputs": [
    {
     "data": {
      "text/plain": [
       "['./output/glitz/relationship/01b5dbb15c4b904df604f262a2d6fba35c0ff0d0.txt',\n",
       " './output/glitz/relationship/0df880ce3466f237a118e3a385cdc165da0cd600.txt',\n",
       " './output/glitz/relationship/1d155d34f81e6726e22851bbcaa5d58f80351bca.txt',\n",
       " './output/glitz/relationship/1f8db050f31843ffb82efea470e92f35b02f4091.txt']"
      ]
     },
     "execution_count": 6,
     "metadata": {},
     "output_type": "execute_result"
    }
   ],
   "source": [
    "relationship_filenames = glob.glob('./output/glitz/relationship/*.txt')\n",
    "relationship_filenames[:4]"
   ]
  },
  {
   "cell_type": "code",
   "execution_count": 7,
   "metadata": {
    "collapsed": false
   },
   "outputs": [
    {
     "data": {
      "text/plain": [
       "['./output/glitz/living/021d1f3d1118c7a73322e94e4750652fca8f4945.txt',\n",
       " './output/glitz/living/113a158c0f2542efb587abd4a59f8c396aba8899.txt',\n",
       " './output/glitz/living/1af133f204476c43d7d8b10fcbcd475282fdaca3.txt',\n",
       " './output/glitz/living/1da550213a97b87c53430ec9cb0f5a7c41227069.txt']"
      ]
     },
     "execution_count": 7,
     "metadata": {},
     "output_type": "execute_result"
    }
   ],
   "source": [
    "living_filenames = glob.glob('./output/glitz/living/*.txt')\n",
    "living_filenames[:4]"
   ]
  },
  {
   "cell_type": "code",
   "execution_count": 8,
   "metadata": {
    "collapsed": false
   },
   "outputs": [
    {
     "data": {
      "text/plain": [
       "['./output/glitz/leisure/0a3ca068e01c71f1bb176acc5d579a449b23c145.txt',\n",
       " './output/glitz/leisure/1276765e5cc2ae2fb37ff11ab8f85d7fe216e6f5.txt',\n",
       " './output/glitz/leisure/13432f0e268c7fb9e60cb83e0a39ff15f0df1800.txt',\n",
       " './output/glitz/leisure/1499925519adb4d1c87bc0d96fdc406f5378febb.txt']"
      ]
     },
     "execution_count": 8,
     "metadata": {},
     "output_type": "execute_result"
    }
   ],
   "source": [
    "leisure_filenames = glob.glob('./output/glitz/leisure/*.txt')\n",
    "leisure_filenames[:4]"
   ]
  },
  {
   "cell_type": "code",
   "execution_count": 9,
   "metadata": {
    "collapsed": false
   },
   "outputs": [
    {
     "data": {
      "text/plain": [
       "['Tepat hari ini, 2 Oktober negara kita memperingati hari salah satu seni budaya Indonesia yang paling terkenal, batik. Semakin bangga karena batik terus berinovasi seiring dengan perkembangan zaman. Desainnya semakin variatif, motifnya jauh dari kata membosankan, dan bisa diaplikasikan dalam berbagai kesempatan. Untuk menambah koleksi batik di lemari Anda, GLITZMEDIA.CO berikan rekomendasi 12 busana bergaya modern dan chic. Penampilan akan lebih segar dan muda. Sebagai tabungan gaya, batik tak akan pernah lekang oleh waktu. Tergantung dari seberapa cerdas Anda memadupadankannya.\\xc2\\xa0   KIRI: Kimono Jacket, COTTONINK.CO.ID KANAN:\\xc2\\xa0Sleeveless Top, ALOES via BOBOBOBO.COM \\n\\nPAGE\\n1\\n2\\n3\\n4\\n5\\n\\n PAGE 1 2 3 4 5\\n']"
      ]
     },
     "execution_count": 9,
     "metadata": {},
     "output_type": "execute_result"
    }
   ],
   "source": [
    "style_text = []\n",
    "for filename in style_filenames:\n",
    "    with open(filename) as f:\n",
    "        style_text.append(f.read())\n",
    "\n",
    "style_text[1:2]"
   ]
  },
  {
   "cell_type": "code",
   "execution_count": 10,
   "metadata": {
    "collapsed": false
   },
   "outputs": [
    {
     "data": {
      "text/plain": [
       "['Tepat hari ini, 2 Oktober negara kita memperingati hari salah satu seni budaya Indonesia yang paling terkenal, batik. Semakin bangga karena batik terus berinovasi seiring dengan perkembangan zaman. Desainnya semakin variatif, motifnya jauh dari kata membosankan, dan bisa diaplikasikan dalam berbagai kesempatan. Untuk menambah koleksi batik di lemari Anda, GLITZMEDIA.CO berikan rekomendasi 12 busana bergaya modern dan chic. Penampilan akan lebih segar dan muda. Sebagai tabungan gaya, batik tak akan pernah lekang oleh waktu. Tergantung dari seberapa cerdas Anda memadupadankannya.\\xc2\\xa0   KIRI: Kimono Jacket, COTTONINK.CO.ID KANAN:\\xc2\\xa0Sleeveless Top, ALOES via BOBOBOBO.COM \\n\\nPAGE\\n1\\n2\\n3\\n4\\n5\\n\\n PAGE 1 2 3 4 5\\n']"
      ]
     },
     "execution_count": 10,
     "metadata": {},
     "output_type": "execute_result"
    }
   ],
   "source": [
    "beauty_text = []\n",
    "for filename in beauty_filenames:\n",
    "    with open(filename) as f:\n",
    "        beauty_text.append(f.read())\n",
    "\n",
    "beauty_text[1:2]"
   ]
  },
  {
   "cell_type": "code",
   "execution_count": 11,
   "metadata": {
    "collapsed": false
   },
   "outputs": [
    {
     "data": {
      "text/plain": [
       "['Tepat hari ini, 2 Oktober negara kita memperingati hari salah satu seni budaya Indonesia yang paling terkenal, batik. Semakin bangga karena batik terus berinovasi seiring dengan perkembangan zaman. Desainnya semakin variatif, motifnya jauh dari kata membosankan, dan bisa diaplikasikan dalam berbagai kesempatan. Untuk menambah koleksi batik di lemari Anda, GLITZMEDIA.CO berikan rekomendasi 12 busana bergaya modern dan chic. Penampilan akan lebih segar dan muda. Sebagai tabungan gaya, batik tak akan pernah lekang oleh waktu. Tergantung dari seberapa cerdas Anda memadupadankannya.\\xc2\\xa0   KIRI: Kimono Jacket, COTTONINK.CO.ID KANAN:\\xc2\\xa0Sleeveless Top, ALOES via BOBOBOBO.COM \\n\\nPAGE\\n1\\n2\\n3\\n4\\n5\\n\\n PAGE 1 2 3 4 5\\n']"
      ]
     },
     "execution_count": 11,
     "metadata": {},
     "output_type": "execute_result"
    }
   ],
   "source": [
    "wellness_text = []\n",
    "for filename in wellness_filenames:\n",
    "    with open(filename) as f:\n",
    "        wellness_text.append(f.read())\n",
    "\n",
    "wellness_text[1:2]"
   ]
  },
  {
   "cell_type": "code",
   "execution_count": 12,
   "metadata": {
    "collapsed": false
   },
   "outputs": [
    {
     "data": {
      "text/plain": [
       "['Tepat hari ini, 2 Oktober negara kita memperingati hari salah satu seni budaya Indonesia yang paling terkenal, batik. Semakin bangga karena batik terus berinovasi seiring dengan perkembangan zaman. Desainnya semakin variatif, motifnya jauh dari kata membosankan, dan bisa diaplikasikan dalam berbagai kesempatan. Untuk menambah koleksi batik di lemari Anda, GLITZMEDIA.CO berikan rekomendasi 12 busana bergaya modern dan chic. Penampilan akan lebih segar dan muda. Sebagai tabungan gaya, batik tak akan pernah lekang oleh waktu. Tergantung dari seberapa cerdas Anda memadupadankannya.\\xc2\\xa0   KIRI: Kimono Jacket, COTTONINK.CO.ID KANAN:\\xc2\\xa0Sleeveless Top, ALOES via BOBOBOBO.COM \\n\\nPAGE\\n1\\n2\\n3\\n4\\n5\\n\\n PAGE 1 2 3 4 5\\n']"
      ]
     },
     "execution_count": 12,
     "metadata": {},
     "output_type": "execute_result"
    }
   ],
   "source": [
    "entertainment_text = []\n",
    "for filename in entertainment_filenames:\n",
    "    with open(filename) as f:\n",
    "        entertainment_text.append(f.read())\n",
    "\n",
    "entertainment_text[1:2]"
   ]
  },
  {
   "cell_type": "code",
   "execution_count": 13,
   "metadata": {
    "collapsed": false
   },
   "outputs": [
    {
     "data": {
      "text/plain": [
       "['Tepat hari ini, 2 Oktober negara kita memperingati hari salah satu seni budaya Indonesia yang paling terkenal, batik. Semakin bangga karena batik terus berinovasi seiring dengan perkembangan zaman. Desainnya semakin variatif, motifnya jauh dari kata membosankan, dan bisa diaplikasikan dalam berbagai kesempatan. Untuk menambah koleksi batik di lemari Anda, GLITZMEDIA.CO berikan rekomendasi 12 busana bergaya modern dan chic. Penampilan akan lebih segar dan muda. Sebagai tabungan gaya, batik tak akan pernah lekang oleh waktu. Tergantung dari seberapa cerdas Anda memadupadankannya.\\xc2\\xa0   KIRI: Kimono Jacket, COTTONINK.CO.ID KANAN:\\xc2\\xa0Sleeveless Top, ALOES via BOBOBOBO.COM \\n\\nPAGE\\n1\\n2\\n3\\n4\\n5\\n\\n PAGE 1 2 3 4 5\\n']"
      ]
     },
     "execution_count": 13,
     "metadata": {},
     "output_type": "execute_result"
    }
   ],
   "source": [
    "relationship_text = []\n",
    "for filename in relationship_filenames:\n",
    "    with open(filename) as f:\n",
    "        relationship_text.append(f.read())\n",
    "\n",
    "relationship_text[1:2]"
   ]
  },
  {
   "cell_type": "code",
   "execution_count": 14,
   "metadata": {
    "collapsed": false
   },
   "outputs": [
    {
     "data": {
      "text/plain": [
       "['Tepat hari ini, 2 Oktober negara kita memperingati hari salah satu seni budaya Indonesia yang paling terkenal, batik. Semakin bangga karena batik terus berinovasi seiring dengan perkembangan zaman. Desainnya semakin variatif, motifnya jauh dari kata membosankan, dan bisa diaplikasikan dalam berbagai kesempatan. Untuk menambah koleksi batik di lemari Anda, GLITZMEDIA.CO berikan rekomendasi 12 busana bergaya modern dan chic. Penampilan akan lebih segar dan muda. Sebagai tabungan gaya, batik tak akan pernah lekang oleh waktu. Tergantung dari seberapa cerdas Anda memadupadankannya.\\xc2\\xa0   KIRI: Kimono Jacket, COTTONINK.CO.ID KANAN:\\xc2\\xa0Sleeveless Top, ALOES via BOBOBOBO.COM \\n\\nPAGE\\n1\\n2\\n3\\n4\\n5\\n\\n PAGE 1 2 3 4 5\\n']"
      ]
     },
     "execution_count": 14,
     "metadata": {},
     "output_type": "execute_result"
    }
   ],
   "source": [
    "living_text = []\n",
    "for filename in living_filenames:\n",
    "    with open(filename) as f:\n",
    "        living_text.append(f.read())\n",
    "\n",
    "living_text[1:2]"
   ]
  },
  {
   "cell_type": "code",
   "execution_count": 15,
   "metadata": {
    "collapsed": false
   },
   "outputs": [
    {
     "data": {
      "text/plain": [
       "['Tepat hari ini, 2 Oktober negara kita memperingati hari salah satu seni budaya Indonesia yang paling terkenal, batik. Semakin bangga karena batik terus berinovasi seiring dengan perkembangan zaman. Desainnya semakin variatif, motifnya jauh dari kata membosankan, dan bisa diaplikasikan dalam berbagai kesempatan. Untuk menambah koleksi batik di lemari Anda, GLITZMEDIA.CO berikan rekomendasi 12 busana bergaya modern dan chic. Penampilan akan lebih segar dan muda. Sebagai tabungan gaya, batik tak akan pernah lekang oleh waktu. Tergantung dari seberapa cerdas Anda memadupadankannya.\\xc2\\xa0   KIRI: Kimono Jacket, COTTONINK.CO.ID KANAN:\\xc2\\xa0Sleeveless Top, ALOES via BOBOBOBO.COM \\n\\nPAGE\\n1\\n2\\n3\\n4\\n5\\n\\n PAGE 1 2 3 4 5\\n']"
      ]
     },
     "execution_count": 15,
     "metadata": {},
     "output_type": "execute_result"
    }
   ],
   "source": [
    "leisure_text = []\n",
    "for filename in leisure_filenames:\n",
    "    with open(filename) as f:\n",
    "        leisure_text.append(f.read())\n",
    "\n",
    "leisure_text[1:2]"
   ]
  },
  {
   "cell_type": "code",
   "execution_count": 16,
   "metadata": {
    "collapsed": true
   },
   "outputs": [],
   "source": [
    "df_style = pd.DataFrame({'text': style_text, 'class': 'style'})"
   ]
  },
  {
   "cell_type": "code",
   "execution_count": 17,
   "metadata": {
    "collapsed": false
   },
   "outputs": [],
   "source": [
    "df_beauty = pd.DataFrame({'text': beauty_text, 'class': 'beauty'})"
   ]
  },
  {
   "cell_type": "code",
   "execution_count": 18,
   "metadata": {
    "collapsed": false
   },
   "outputs": [],
   "source": [
    "df_wellness = pd.DataFrame({'text': wellness_text, 'class': 'wellness'})"
   ]
  },
  {
   "cell_type": "code",
   "execution_count": 19,
   "metadata": {
    "collapsed": true
   },
   "outputs": [],
   "source": [
    "df_entertainment = pd.DataFrame({'text': entertainment_text, 'class': 'entertainment'})"
   ]
  },
  {
   "cell_type": "code",
   "execution_count": 20,
   "metadata": {
    "collapsed": true
   },
   "outputs": [],
   "source": [
    "df_relationship = pd.DataFrame({'text': relationship_text, 'class': 'relationship'})"
   ]
  },
  {
   "cell_type": "code",
   "execution_count": 21,
   "metadata": {
    "collapsed": true
   },
   "outputs": [],
   "source": [
    "df_living = pd.DataFrame({'text': living_text, 'class': 'living'})"
   ]
  },
  {
   "cell_type": "code",
   "execution_count": 22,
   "metadata": {
    "collapsed": true
   },
   "outputs": [],
   "source": [
    "df_leisure = pd.DataFrame({'text': leisure_text, 'class': 'leisure'})"
   ]
  },
  {
   "cell_type": "code",
   "execution_count": 23,
   "metadata": {
    "collapsed": false
   },
   "outputs": [],
   "source": [
    "frames = [df_style, df_beauty, df_wellness, df_entertainment, df_relationship, df_living, df_leisure]\n",
    "\n",
    "data = pd.concat(frames, ignore_index=True)"
   ]
  },
  {
   "cell_type": "code",
   "execution_count": 24,
   "metadata": {
    "collapsed": false
   },
   "outputs": [],
   "source": [
    "data['label'] = data['class'].map({'style': 1, 'beauty': 2, 'wellness': 3, \n",
    "                                   'entertainment': 4, 'relationship': 5, \n",
    "                                   'living': 6, 'leisure': 7})"
   ]
  },
  {
   "cell_type": "code",
   "execution_count": 25,
   "metadata": {
    "collapsed": false
   },
   "outputs": [
    {
     "data": {
      "text/html": [
       "<div>\n",
       "<table border=\"1\" class=\"dataframe\">\n",
       "  <thead>\n",
       "    <tr style=\"text-align: right;\">\n",
       "      <th></th>\n",
       "      <th>class</th>\n",
       "      <th>text</th>\n",
       "      <th>label</th>\n",
       "    </tr>\n",
       "  </thead>\n",
       "  <tbody>\n",
       "    <tr>\n",
       "      <th>0</th>\n",
       "      <td>style</td>\n",
       "      <td>Jika sebelumnya Pevita Pearce dan Velove Vexia...</td>\n",
       "      <td>1</td>\n",
       "    </tr>\n",
       "    <tr>\n",
       "      <th>1</th>\n",
       "      <td>style</td>\n",
       "      <td>Tepat hari ini, 2 Oktober negara kita memperin...</td>\n",
       "      <td>1</td>\n",
       "    </tr>\n",
       "    <tr>\n",
       "      <th>2</th>\n",
       "      <td>style</td>\n",
       "      <td>\\n\\n \\n\\n \\n\\n \\n\\n \\n\\n Perhelatan mode berge...</td>\n",
       "      <td>1</td>\n",
       "    </tr>\n",
       "    <tr>\n",
       "      <th>3</th>\n",
       "      <td>style</td>\n",
       "      <td>\\n\\n \\n\\n \\n\\n \\n\\n \\n\\n \\n\\n \\n\\n \\n\\n \\n\\n \\...</td>\n",
       "      <td>1</td>\n",
       "    </tr>\n",
       "    <tr>\n",
       "      <th>4</th>\n",
       "      <td>style</td>\n",
       "      <td>Sangat beruntung tinggal di Indonesia. Dikelil...</td>\n",
       "      <td>1</td>\n",
       "    </tr>\n",
       "  </tbody>\n",
       "</table>\n",
       "</div>"
      ],
      "text/plain": [
       "   class                                               text  label\n",
       "0  style  Jika sebelumnya Pevita Pearce dan Velove Vexia...      1\n",
       "1  style  Tepat hari ini, 2 Oktober negara kita memperin...      1\n",
       "2  style  \\n\\n \\n\\n \\n\\n \\n\\n \\n\\n Perhelatan mode berge...      1\n",
       "3  style  \\n\\n \\n\\n \\n\\n \\n\\n \\n\\n \\n\\n \\n\\n \\n\\n \\n\\n \\...      1\n",
       "4  style  Sangat beruntung tinggal di Indonesia. Dikelil...      1"
      ]
     },
     "execution_count": 25,
     "metadata": {},
     "output_type": "execute_result"
    }
   ],
   "source": [
    "data.head()"
   ]
  },
  {
   "cell_type": "code",
   "execution_count": 26,
   "metadata": {
    "collapsed": false
   },
   "outputs": [
    {
     "data": {
      "text/plain": [
       "(280, 3)"
      ]
     },
     "execution_count": 26,
     "metadata": {},
     "output_type": "execute_result"
    }
   ],
   "source": [
    "data.shape"
   ]
  },
  {
   "cell_type": "code",
   "execution_count": 27,
   "metadata": {
    "collapsed": true
   },
   "outputs": [],
   "source": [
    "from sklearn.cross_validation import train_test_split"
   ]
  },
  {
   "cell_type": "code",
   "execution_count": 28,
   "metadata": {
    "collapsed": true
   },
   "outputs": [],
   "source": [
    "X = data.text\n",
    "Y = data.label"
   ]
  },
  {
   "cell_type": "code",
   "execution_count": 29,
   "metadata": {
    "collapsed": true
   },
   "outputs": [],
   "source": [
    "X_train, X_test, y_train, y_test = train_test_split(X, Y)"
   ]
  },
  {
   "cell_type": "code",
   "execution_count": 30,
   "metadata": {
    "collapsed": false
   },
   "outputs": [
    {
     "name": "stdout",
     "output_type": "stream",
     "text": [
      "(210,) (70,) (210,) (70,)\n"
     ]
    }
   ],
   "source": [
    "print X_train.shape, X_test.shape, y_train.shape, y_test.shape"
   ]
  },
  {
   "cell_type": "markdown",
   "metadata": {},
   "source": [
    "### Vectorize\n",
    "Content text pada dataframe dijadikan vector "
   ]
  },
  {
   "cell_type": "code",
   "execution_count": 31,
   "metadata": {
    "collapsed": true
   },
   "outputs": [],
   "source": [
    "from sklearn.feature_extraction.text import CountVectorizer\n",
    "vect = CountVectorizer()"
   ]
  },
  {
   "cell_type": "code",
   "execution_count": 32,
   "metadata": {
    "collapsed": true
   },
   "outputs": [],
   "source": [
    "vect.fit(X_train)\n",
    "X_train_dtm = vect.transform(X_train)"
   ]
  },
  {
   "cell_type": "code",
   "execution_count": 33,
   "metadata": {
    "collapsed": true
   },
   "outputs": [],
   "source": [
    "X_test_dtm = vect.transform(X_test)"
   ]
  },
  {
   "cell_type": "code",
   "execution_count": 34,
   "metadata": {
    "collapsed": true
   },
   "outputs": [],
   "source": [
    "from sklearn.naive_bayes import MultinomialNB\n",
    "nb = MultinomialNB()"
   ]
  },
  {
   "cell_type": "code",
   "execution_count": 35,
   "metadata": {
    "collapsed": false
   },
   "outputs": [
    {
     "name": "stdout",
     "output_type": "stream",
     "text": [
      "CPU times: user 2.19 ms, sys: 724 µs, total: 2.92 ms\n",
      "Wall time: 2.37 ms\n"
     ]
    },
    {
     "data": {
      "text/plain": [
       "MultinomialNB(alpha=1.0, class_prior=None, fit_prior=True)"
      ]
     },
     "execution_count": 35,
     "metadata": {},
     "output_type": "execute_result"
    }
   ],
   "source": [
    "%time nb.fit(X_train_dtm, y_train)"
   ]
  },
  {
   "cell_type": "code",
   "execution_count": 36,
   "metadata": {
    "collapsed": true
   },
   "outputs": [],
   "source": [
    "y_pred_class = nb.predict(X_test_dtm)"
   ]
  },
  {
   "cell_type": "code",
   "execution_count": 37,
   "metadata": {
    "collapsed": false
   },
   "outputs": [
    {
     "data": {
      "text/plain": [
       "0.0"
      ]
     },
     "execution_count": 37,
     "metadata": {},
     "output_type": "execute_result"
    }
   ],
   "source": [
    "from sklearn import metrics\n",
    "metrics.accuracy_score(y_test, y_pred_class)"
   ]
  },
  {
   "cell_type": "code",
   "execution_count": 38,
   "metadata": {
    "collapsed": false
   },
   "outputs": [
    {
     "data": {
      "text/plain": [
       "array([[0, 0, 3, 0, 0, 0, 4],\n",
       "       [0, 0, 1, 1, 0, 4, 4],\n",
       "       [1, 0, 0, 1, 0, 4, 8],\n",
       "       [0, 0, 2, 0, 0, 5, 3],\n",
       "       [0, 0, 0, 0, 0, 3, 3],\n",
       "       [1, 0, 4, 1, 0, 0, 4],\n",
       "       [1, 0, 5, 1, 0, 6, 0]])"
      ]
     },
     "execution_count": 38,
     "metadata": {},
     "output_type": "execute_result"
    }
   ],
   "source": [
    "metrics.confusion_matrix(y_test, y_pred_class)"
   ]
  },
  {
   "cell_type": "code",
   "execution_count": 39,
   "metadata": {
    "collapsed": true
   },
   "outputs": [],
   "source": [
    "df2_beauty = pd.DataFrame({'text': beauty_text, 'label': 0})\n",
    "df2_relationship = pd.DataFrame({'text': relationship_text, 'label': 1})"
   ]
  },
  {
   "cell_type": "code",
   "execution_count": 41,
   "metadata": {
    "collapsed": false
   },
   "outputs": [
    {
     "data": {
      "text/plain": [
       "(80, 2)"
      ]
     },
     "execution_count": 41,
     "metadata": {},
     "output_type": "execute_result"
    }
   ],
   "source": [
    "data2 = pd.concat([df2_beauty, df2_relationship], ignore_index=True)\n",
    "data2.shape"
   ]
  },
  {
   "cell_type": "code",
   "execution_count": 42,
   "metadata": {
    "collapsed": false
   },
   "outputs": [
    {
     "data": {
      "text/html": [
       "<div>\n",
       "<table border=\"1\" class=\"dataframe\">\n",
       "  <thead>\n",
       "    <tr style=\"text-align: right;\">\n",
       "      <th></th>\n",
       "      <th>class</th>\n",
       "      <th>text</th>\n",
       "      <th>label</th>\n",
       "    </tr>\n",
       "  </thead>\n",
       "  <tbody>\n",
       "    <tr>\n",
       "      <th>0</th>\n",
       "      <td>style</td>\n",
       "      <td>Jika sebelumnya Pevita Pearce dan Velove Vexia...</td>\n",
       "      <td>1</td>\n",
       "    </tr>\n",
       "    <tr>\n",
       "      <th>1</th>\n",
       "      <td>style</td>\n",
       "      <td>Tepat hari ini, 2 Oktober negara kita memperin...</td>\n",
       "      <td>1</td>\n",
       "    </tr>\n",
       "    <tr>\n",
       "      <th>2</th>\n",
       "      <td>style</td>\n",
       "      <td>\\n\\n \\n\\n \\n\\n \\n\\n \\n\\n Perhelatan mode berge...</td>\n",
       "      <td>1</td>\n",
       "    </tr>\n",
       "    <tr>\n",
       "      <th>3</th>\n",
       "      <td>style</td>\n",
       "      <td>\\n\\n \\n\\n \\n\\n \\n\\n \\n\\n \\n\\n \\n\\n \\n\\n \\n\\n \\...</td>\n",
       "      <td>1</td>\n",
       "    </tr>\n",
       "    <tr>\n",
       "      <th>4</th>\n",
       "      <td>style</td>\n",
       "      <td>Sangat beruntung tinggal di Indonesia. Dikelil...</td>\n",
       "      <td>1</td>\n",
       "    </tr>\n",
       "  </tbody>\n",
       "</table>\n",
       "</div>"
      ],
      "text/plain": [
       "   class                                               text  label\n",
       "0  style  Jika sebelumnya Pevita Pearce dan Velove Vexia...      1\n",
       "1  style  Tepat hari ini, 2 Oktober negara kita memperin...      1\n",
       "2  style  \\n\\n \\n\\n \\n\\n \\n\\n \\n\\n Perhelatan mode berge...      1\n",
       "3  style  \\n\\n \\n\\n \\n\\n \\n\\n \\n\\n \\n\\n \\n\\n \\n\\n \\n\\n \\...      1\n",
       "4  style  Sangat beruntung tinggal di Indonesia. Dikelil...      1"
      ]
     },
     "execution_count": 42,
     "metadata": {},
     "output_type": "execute_result"
    }
   ],
   "source": [
    "data.head()"
   ]
  },
  {
   "cell_type": "code",
   "execution_count": null,
   "metadata": {
    "collapsed": true
   },
   "outputs": [],
   "source": []
  }
 ],
 "metadata": {
  "kernelspec": {
   "display_name": "Python 2",
   "language": "python",
   "name": "python2"
  },
  "language_info": {
   "codemirror_mode": {
    "name": "ipython",
    "version": 2
   },
   "file_extension": ".py",
   "mimetype": "text/x-python",
   "name": "python",
   "nbconvert_exporter": "python",
   "pygments_lexer": "ipython2",
   "version": "2.7.10"
  }
 },
 "nbformat": 4,
 "nbformat_minor": 0
}
