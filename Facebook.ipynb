{
 "cells": [
  {
   "cell_type": "code",
   "execution_count": 1,
   "metadata": {
    "collapsed": true
   },
   "outputs": [],
   "source": [
    "import urllib2\n",
    "import json\n",
    "import datetime\n",
    "import csv\n",
    "import time"
   ]
  },
  {
   "cell_type": "code",
   "execution_count": 2,
   "metadata": {
    "collapsed": true
   },
   "outputs": [],
   "source": [
    "app_id = \"1568109056740159\"\n",
    "app_secret = \"f68cb213baed613afd40f5d2b176d685\"\n",
    "\n",
    "access_token = app_id + \"|\" + app_secret"
   ]
  },
  {
   "cell_type": "code",
   "execution_count": 3,
   "metadata": {
    "collapsed": true
   },
   "outputs": [],
   "source": [
    "page_id = 'nytimes'"
   ]
  },
  {
   "cell_type": "code",
   "execution_count": 4,
   "metadata": {
    "collapsed": false
   },
   "outputs": [
    {
     "name": "stdout",
     "output_type": "stream",
     "text": [
      "{\n",
      "    \"id\": \"5281959998\", \n",
      "    \"name\": \"The New York Times\"\n",
      "}\n"
     ]
    }
   ],
   "source": [
    "def testFacebookPageData(page_id, access_token):\n",
    "    \n",
    "    # construct the URL string\n",
    "    base = \"https://graph.facebook.com/v2.4\"\n",
    "    node = \"/\" + page_id\n",
    "    parameters = \"/?access_token=%s\" % access_token\n",
    "    url = base + node + parameters\n",
    "    \n",
    "    # retrieve data\n",
    "    req = urllib2.Request(url)\n",
    "    response = urllib2.urlopen(req)\n",
    "    data = json.loads(response.read())\n",
    "    \n",
    "    print json.dumps(data, indent=4, sort_keys=True)\n",
    "    \n",
    "\n",
    "testFacebookPageData(page_id, access_token)"
   ]
  },
  {
   "cell_type": "code",
   "execution_count": 5,
   "metadata": {
    "collapsed": true
   },
   "outputs": [],
   "source": [
    "def request_until_succeed(url):\n",
    "    req = urllib2.Request(url)\n",
    "    success = False\n",
    "    while success is False:\n",
    "        try: \n",
    "            response = urllib2.urlopen(req)\n",
    "            if response.getcode() == 200:\n",
    "                success = True\n",
    "        except Exception, e:\n",
    "            print e\n",
    "            time.sleep(5)\n",
    "            \n",
    "            print \"Error for URL %s: %s\" % (url, datetime.datetime.now())\n",
    "\n",
    "    return response.read()"
   ]
  },
  {
   "cell_type": "code",
   "execution_count": 6,
   "metadata": {
    "collapsed": false
   },
   "outputs": [
    {
     "name": "stdout",
     "output_type": "stream",
     "text": [
      "{\n",
      "    \"data\": [\n",
      "        {\n",
      "            \"created_time\": \"2016-09-26T15:55:00+0000\", \n",
      "            \"id\": \"5281959998_10150911766579999\", \n",
      "            \"message\": \"A week later, a North Carolina law would have stopped the release of police videos of a Charlotte shooting.\"\n",
      "        }, \n",
      "        {\n",
      "            \"created_time\": \"2016-09-26T15:48:26+0000\", \n",
      "            \"id\": \"5281959998_10150911774719999\", \n",
      "            \"message\": \"Join Nicholas Kristof live as he takes questions about tonight's presidential debate.\", \n",
      "            \"story\": \"The New York Times shared Nicholas Kristof's live video.\"\n",
      "        }, \n",
      "        {\n",
      "            \"created_time\": \"2016-09-26T15:25:00+0000\", \n",
      "            \"id\": \"5281959998_10150911663999999\", \n",
      "            \"message\": \"Hillary Clinton shouldn't waste her time in the debate explaining to people what a scoundrel Donald J. Trump is, Nicolle Wallace writes in The New York Times Opinion Section .\"\n",
      "        }, \n",
      "        {\n",
      "            \"created_time\": \"2016-09-26T15:10:14+0000\", \n",
      "            \"id\": \"5281959998_10150911747074999\", \n",
      "            \"message\": \"Join Alton Brown as he discusses his new cookbook with The New York Times Food's Kim Severson. Ask them your questions in the comments.\", \n",
      "            \"story\": \"The New York Times shared The New York Times Food's live video.\"\n",
      "        }, \n",
      "        {\n",
      "            \"created_time\": \"2016-09-26T14:55:01+0000\", \n",
      "            \"id\": \"5281959998_10150911601289999\", \n",
      "            \"message\": \"Either the lead pigeon recognizes that it has no clue and falls back into the flock, letting other birds take over, or the flock collectively decides that the direction that it is taking just doesn\\u2019t feel right, and it doesn\\u2019t follow.\"\n",
      "        }, \n",
      "        {\n",
      "            \"created_time\": \"2016-09-26T14:45:59+0000\", \n",
      "            \"id\": \"5281959998_10150911730929999\", \n",
      "            \"message\": \"Where in the world is The New York Times - Travel's Lucas Peterson? Guess in the comments below and he will reveal his location at the end of his live tour of a Middle Eastern grocery store.\", \n",
      "            \"story\": \"The New York Times shared The New York Times - Travel's live video.\"\n",
      "        }, \n",
      "        {\n",
      "            \"created_time\": \"2016-09-26T14:33:51+0000\", \n",
      "            \"id\": \"5281959998_10150911724084999\", \n",
      "            \"message\": \"Roslyn Sulcas, a Times arts reporter, is at the Tate showing us the finalists for the Turner Prize in contemporary art. Send us your questions.\", \n",
      "            \"story\": \"The New York Times shared Video From The New York Times's live video.\"\n",
      "        }, \n",
      "        {\n",
      "            \"created_time\": \"2016-09-26T14:25:01+0000\", \n",
      "            \"id\": \"5281959998_10150911553659999\", \n",
      "            \"message\": \"\\\"We still don't understand: Why did this happen to us? How is our government capable of shooting its own citizens?\\\"\"\n",
      "        }, \n",
      "        {\n",
      "            \"created_time\": \"2016-09-26T13:55:00+0000\", \n",
      "            \"id\": \"5281959998_10150911608124999\", \n",
      "            \"message\": \"Many doctors don't see past the obesity.\"\n",
      "        }, \n",
      "        {\n",
      "            \"created_time\": \"2016-09-26T13:25:00+0000\", \n",
      "            \"id\": \"5281959998_10150911667124999\", \n",
      "            \"message\": \"\\\"It's like nothing we've seen before,\\\" said an expert on North Korea's missile program.\"\n",
      "        }, \n",
      "        {\n",
      "            \"created_time\": \"2016-09-26T12:55:00+0000\", \n",
      "            \"id\": \"5281959998_10150911589189999\", \n",
      "            \"message\": \"\\\"He doesn't have a gun,\\\" Rakeyia Scott said 30 seconds before her husband was shot.\"\n",
      "        }, \n",
      "        {\n",
      "            \"created_time\": \"2016-09-26T12:25:00+0000\", \n",
      "            \"id\": \"5281959998_10150911612439999\", \n",
      "            \"message\": \"Just as Donald J. Trump will undermine his prospects if he hurls insults at Hillary Clinton, she must mask her contempt for him and persuade, not scold, voters.\"\n",
      "        }, \n",
      "        {\n",
      "            \"created_time\": \"2016-09-26T11:55:00+0000\", \n",
      "            \"id\": \"5281959998_10150911552359999\", \n",
      "            \"message\": \"\\\"I am racially black and I live in America, which raises the question: Will I live as long as I intend?\\\" Read on in The New York Times Opinion Section.\"\n",
      "        }, \n",
      "        {\n",
      "            \"created_time\": \"2016-09-26T11:25:00+0000\", \n",
      "            \"id\": \"5281959998_10150911559994999\", \n",
      "            \"message\": \"Hillary Clinton and Donald J. Trump are more sharply opposed over racial and gender issues than any two presidential opponents in decades.\"\n",
      "        }, \n",
      "        {\n",
      "            \"created_time\": \"2016-09-26T10:55:00+0000\", \n",
      "            \"id\": \"5281959998_10150911580659999\", \n",
      "            \"message\": \"The migrant camp in Calais, known as the Jungle, is larger than ever.\"\n",
      "        }, \n",
      "        {\n",
      "            \"created_time\": \"2016-09-26T10:30:01+0000\", \n",
      "            \"id\": \"5281959998_10150911591554999\", \n",
      "            \"message\": \"Daily Briefing: Here's what you need to know today.\"\n",
      "        }, \n",
      "        {\n",
      "            \"created_time\": \"2016-09-26T09:55:00+0000\", \n",
      "            \"id\": \"5281959998_10150911569639999\", \n",
      "            \"message\": \"The refugee children, parents said, might have contagious diseases. And cultural differences, they said, might disrupt learning.\"\n",
      "        }, \n",
      "        {\n",
      "            \"created_time\": \"2016-09-26T09:29:00+0000\", \n",
      "            \"id\": \"5281959998_10150911569494999\", \n",
      "            \"message\": \"The Syrians and Russians seem to be mobilizing to apply their kill-all-who-resist strategy to retake all of Aleppo.\"\n",
      "        }, \n",
      "        {\n",
      "            \"created_time\": \"2016-09-26T08:55:00+0000\", \n",
      "            \"id\": \"5281959998_10150911550034999\", \n",
      "            \"message\": \"Poverty declined among every group in the U.S. But African-Americans and Hispanics experienced the largest improvement.\"\n",
      "        }, \n",
      "        {\n",
      "            \"created_time\": \"2016-09-26T08:25:01+0000\", \n",
      "            \"id\": \"5281959998_10150911549419999\", \n",
      "            \"message\": \"The image of Michelle Obama hugging George W. Bush became an instant metaphor.\"\n",
      "        }, \n",
      "        {\n",
      "            \"created_time\": \"2016-09-26T07:55:01+0000\", \n",
      "            \"id\": \"5281959998_10150911540894999\", \n",
      "            \"message\": \"\\\"We hear it time and time again that business needs certainty,\\\" said the chairman of KPMG\\u2019s British operations.\"\n",
      "        }, \n",
      "        {\n",
      "            \"created_time\": \"2016-09-26T06:55:00+0000\", \n",
      "            \"id\": \"5281959998_10150911025624999\", \n",
      "            \"message\": \"Many Jews in Kaifeng, China, see striking similarities between Jewish and Confucian thought.\"\n",
      "        }, \n",
      "        {\n",
      "            \"created_time\": \"2016-09-26T05:55:00+0000\", \n",
      "            \"id\": \"5281959998_10150909119939999\", \n",
      "            \"message\": \"Travel to so-called hot spots no longer stands out as an automatic sign of danger.\"\n",
      "        }, \n",
      "        {\n",
      "            \"created_time\": \"2016-09-26T03:55:00+0000\", \n",
      "            \"id\": \"5281959998_10150910955079999\", \n",
      "            \"message\": \"\\\"There are many politically prominent Christians today who should think and act more like Lewis,\\\" the man behind \\\"The Chronicles of Narnia.\\\"\\n\\nRead on in The New York Times Opinion Section.\"\n",
      "        }, \n",
      "        {\n",
      "            \"created_time\": \"2016-09-26T02:55:01+0000\", \n",
      "            \"id\": \"5281959998_10150909575679999\", \n",
      "            \"message\": \"As children grow up, how can they, and how should they, begin to participate in making medical decisions?\"\n",
      "        }\n",
      "    ], \n",
      "    \"paging\": {\n",
      "        \"next\": \"https://graph.facebook.com/v2.4/5281959998/feed?access_token=1568109056740159|f68cb213baed613afd40f5d2b176d685&limit=25&until=1474858501&__paging_token=enc_AdBtjrDUXJByczma82RBZADgP9teOZBkEpjKZCC7UOd7n8aSTnPDG4RDmemZBzxHSS95vK1YMrpCQ2a0j3IFinTjHoyt\", \n",
      "        \"previous\": \"https://graph.facebook.com/v2.4/5281959998/feed?since=1474905300&access_token=1568109056740159|f68cb213baed613afd40f5d2b176d685&limit=25&__paging_token=enc_AdDDtxJHre0iFAeZA6ytjNZBTx2yTcRpgE23ZChqTOGIDWAK7FIxHbm9ZC5817k6EuuvoUilW3TZCTbtfeFIIbiSARxzG&__previous=1\"\n",
      "    }\n",
      "}\n"
     ]
    }
   ],
   "source": [
    "def testFacebookPageFeedData(page_id, access_token):\n",
    "    \n",
    "    # construct the URL string\n",
    "    base = \"https://graph.facebook.com/v2.4\"\n",
    "    node = \"/\" + page_id + \"/feed\" # changed\n",
    "    parameters = \"/?access_token=%s\" % access_token\n",
    "    url = base + node + parameters\n",
    "    \n",
    "    # retrieve data\n",
    "    data = json.loads(request_until_succeed(url))\n",
    "    \n",
    "    print json.dumps(data, indent=4, sort_keys=True)\n",
    "    \n",
    "\n",
    "testFacebookPageFeedData(page_id, access_token)"
   ]
  },
  {
   "cell_type": "code",
   "execution_count": 8,
   "metadata": {
    "collapsed": false
   },
   "outputs": [
    {
     "name": "stdout",
     "output_type": "stream",
     "text": [
      "{\n",
      "    \"comments\": {\n",
      "        \"data\": [\n",
      "            {\n",
      "                \"can_remove\": false, \n",
      "                \"created_time\": \"2016-09-26T16:01:03+0000\", \n",
      "                \"from\": {\n",
      "                    \"id\": \"10207511727337072\", \n",
      "                    \"name\": \"Maureen Sheridan\"\n",
      "                }, \n",
      "                \"id\": \"10150911766579999_10150911784019999\", \n",
      "                \"like_count\": 0, \n",
      "                \"message\": \"Wow. This pretty much ensures I'll Never travel to North Carolina. Trending backwards as fast as it can. Regressive police state, anyone?\", \n",
      "                \"user_likes\": false\n",
      "            }\n",
      "        ], \n",
      "        \"paging\": {\n",
      "            \"cursors\": {\n",
      "                \"after\": \"MTYZD\", \n",
      "                \"before\": \"MTYZD\"\n",
      "            }, \n",
      "            \"next\": \"https://graph.facebook.com/v2.2/5281959998_10150911766579999/comments?access_token=1568109056740159%7Cf68cb213baed613afd40f5d2b176d685&summary=true&limit=1&after=MTYZD\"\n",
      "        }, \n",
      "        \"summary\": {\n",
      "            \"order\": \"ranked\", \n",
      "            \"total_count\": 16\n",
      "        }\n",
      "    }, \n",
      "    \"created_time\": \"2016-09-26T15:55:00+0000\", \n",
      "    \"id\": \"5281959998_10150911766579999\", \n",
      "    \"likes\": {\n",
      "        \"data\": [\n",
      "            {\n",
      "                \"id\": \"10153988333517333\", \n",
      "                \"name\": \"Li-Hsuan Cheng\"\n",
      "            }\n",
      "        ], \n",
      "        \"paging\": {\n",
      "            \"cursors\": {\n",
      "                \"after\": \"MTAxNTM5ODgzMzM1MTczMzMZD\", \n",
      "                \"before\": \"MTAxNTM5ODgzMzM1MTczMzMZD\"\n",
      "            }, \n",
      "            \"next\": \"https://graph.facebook.com/v2.2/5281959998_10150911766579999/likes?access_token=1568109056740159%7Cf68cb213baed613afd40f5d2b176d685&summary=true&limit=1&after=MTAxNTM5ODgzMzM1MTczMzMZD\"\n",
      "        }, \n",
      "        \"summary\": {\n",
      "            \"total_count\": 17\n",
      "        }\n",
      "    }, \n",
      "    \"link\": \"http://nyti.ms/2dtOdqh\", \n",
      "    \"message\": \"A week later, a North Carolina law would have stopped the release of police videos of a Charlotte shooting.\", \n",
      "    \"name\": \"Video of Charlotte Police Shooting Could Be the Last Released in North Carolina\", \n",
      "    \"shares\": {\n",
      "        \"count\": 8\n",
      "    }, \n",
      "    \"type\": \"link\"\n",
      "}\n"
     ]
    }
   ],
   "source": [
    "def getFacebookPageFeedData(page_id, access_token, num_statuses):\n",
    "    \n",
    "    # construct the URL string\n",
    "    base = \"https://graph.facebook.com\"\n",
    "    node = \"/\" + page_id + \"/feed\" \n",
    "    parameters = \"/?fields=message,link,created_time,type,name,id,likes.limit(1).summary(true),comments.limit(1).summary(true),shares&limit=%s&access_token=%s\" % (num_statuses, access_token) # changed\n",
    "    url = base + node + parameters\n",
    "    \n",
    "    # retrieve data\n",
    "    data = json.loads(request_until_succeed(url))\n",
    "    \n",
    "    return data\n",
    "\n",
    "test_status = getFacebookPageFeedData(page_id, access_token, 1)[\"data\"][0]\n",
    "print json.dumps(test_status, indent=4, sort_keys=True)"
   ]
  },
  {
   "cell_type": "code",
   "execution_count": 9,
   "metadata": {
    "collapsed": false
   },
   "outputs": [
    {
     "name": "stdout",
     "output_type": "stream",
     "text": [
      "(u'5281959998_10150911766579999', 'A week later, a North Carolina law would have stopped the release of police videos of a Charlotte shooting.', 'Video of Charlotte Police Shooting Could Be the Last Released in North Carolina', u'link', u'http://nyti.ms/2dtOdqh', '2016-09-26 10:55:00', 17, 16, 8)\n"
     ]
    }
   ],
   "source": [
    "\n",
    "def processFacebookPageFeedStatus(status):\n",
    "    \n",
    "    # The status is now a Python dictionary, so for top-level items,\n",
    "    # we can simply call the key.\n",
    "    \n",
    "    # Additionally, some items may not always exist,\n",
    "    # so must check for existence first\n",
    "    \n",
    "    status_id = status['id']\n",
    "    status_message = '' if 'message' not in status.keys() else status['message'].encode('utf-8')\n",
    "    link_name = '' if 'name' not in status.keys() else status['name'].encode('utf-8')\n",
    "    status_type = status['type']\n",
    "    status_link = '' if 'link' not in status.keys() else status['link']\n",
    "    \n",
    "    \n",
    "    # Time needs special care since a) it's in UTC and\n",
    "    # b) it's not easy to use in statistical programs.\n",
    "    \n",
    "    status_published = datetime.datetime.strptime(status['created_time'],'%Y-%m-%dT%H:%M:%S+0000')\n",
    "    status_published = status_published + datetime.timedelta(hours=-5) # EST\n",
    "    status_published = status_published.strftime('%Y-%m-%d %H:%M:%S') # best time format for spreadsheet programs\n",
    "    \n",
    "    # Nested items require chaining dictionary keys.\n",
    "    \n",
    "    num_likes = 0 if 'likes' not in status.keys() else status['likes']['summary']['total_count']\n",
    "    num_comments = 0 if 'comments' not in status.keys() else status['comments']['summary']['total_count']\n",
    "    num_shares = 0 if 'shares' not in status.keys() else status['shares']['count']\n",
    "    \n",
    "    # return a tuple of all processed data\n",
    "    return (status_id, status_message, link_name, status_type, status_link,\n",
    "           status_published, num_likes, num_comments, num_shares)\n",
    "\n",
    "processed_test_status = processFacebookPageFeedStatus(test_status)\n",
    "print processed_test_status"
   ]
  },
  {
   "cell_type": "code",
   "execution_count": 10,
   "metadata": {
    "collapsed": false
   },
   "outputs": [
    {
     "name": "stdout",
     "output_type": "stream",
     "text": [
      "Scraping nytimes Facebook Page: 2016-09-26 23:06:54.995409\n",
      "\n",
      "1000 Statuses Processed: 2016-09-26 23:07:31.989418\n",
      "2000 Statuses Processed: 2016-09-26 23:08:23.947880\n",
      "3000 Statuses Processed: 2016-09-26 23:09:09.455466\n",
      "4000 Statuses Processed: 2016-09-26 23:09:59.694442\n",
      "5000 Statuses Processed: 2016-09-26 23:10:47.077318\n",
      "6000 Statuses Processed: 2016-09-26 23:11:36.989625\n",
      "7000 Statuses Processed: 2016-09-26 23:12:37.583012\n"
     ]
    },
    {
     "ename": "KeyError",
     "evalue": "'total_count'",
     "output_type": "error",
     "traceback": [
      "\u001b[0;31m---------------------------------------------------------------------------\u001b[0m",
      "\u001b[0;31mKeyError\u001b[0m                                  Traceback (most recent call last)",
      "\u001b[0;32m<ipython-input-10-8f8448bb5ec1>\u001b[0m in \u001b[0;36m<module>\u001b[0;34m()\u001b[0m\n\u001b[1;32m     32\u001b[0m \u001b[0;34m\u001b[0m\u001b[0m\n\u001b[1;32m     33\u001b[0m \u001b[0;34m\u001b[0m\u001b[0m\n\u001b[0;32m---> 34\u001b[0;31m \u001b[0mscrapeFacebookPageFeedStatus\u001b[0m\u001b[0;34m(\u001b[0m\u001b[0mpage_id\u001b[0m\u001b[0;34m,\u001b[0m \u001b[0maccess_token\u001b[0m\u001b[0;34m)\u001b[0m\u001b[0;34m\u001b[0m\u001b[0m\n\u001b[0m",
      "\u001b[0;32m<ipython-input-10-8f8448bb5ec1>\u001b[0m in \u001b[0;36mscrapeFacebookPageFeedStatus\u001b[0;34m(page_id, access_token)\u001b[0m\n\u001b[1;32m     15\u001b[0m         \u001b[0;32mwhile\u001b[0m \u001b[0mhas_next_page\u001b[0m\u001b[0;34m:\u001b[0m\u001b[0;34m\u001b[0m\u001b[0m\n\u001b[1;32m     16\u001b[0m             \u001b[0;32mfor\u001b[0m \u001b[0mstatus\u001b[0m \u001b[0;32min\u001b[0m \u001b[0mstatuses\u001b[0m\u001b[0;34m[\u001b[0m\u001b[0;34m'data'\u001b[0m\u001b[0;34m]\u001b[0m\u001b[0;34m:\u001b[0m\u001b[0;34m\u001b[0m\u001b[0m\n\u001b[0;32m---> 17\u001b[0;31m                 \u001b[0mw\u001b[0m\u001b[0;34m.\u001b[0m\u001b[0mwriterow\u001b[0m\u001b[0;34m(\u001b[0m\u001b[0mprocessFacebookPageFeedStatus\u001b[0m\u001b[0;34m(\u001b[0m\u001b[0mstatus\u001b[0m\u001b[0;34m)\u001b[0m\u001b[0;34m)\u001b[0m\u001b[0;34m\u001b[0m\u001b[0m\n\u001b[0m\u001b[1;32m     18\u001b[0m \u001b[0;34m\u001b[0m\u001b[0m\n\u001b[1;32m     19\u001b[0m                 \u001b[0;31m# output progress occasionally to make sure code is not stalling\u001b[0m\u001b[0;34m\u001b[0m\u001b[0;34m\u001b[0m\u001b[0m\n",
      "\u001b[0;32m<ipython-input-9-066fa65729ab>\u001b[0m in \u001b[0;36mprocessFacebookPageFeedStatus\u001b[0;34m(status)\u001b[0m\n\u001b[1;32m     25\u001b[0m \u001b[0;34m\u001b[0m\u001b[0m\n\u001b[1;32m     26\u001b[0m     \u001b[0mnum_likes\u001b[0m \u001b[0;34m=\u001b[0m \u001b[0;36m0\u001b[0m \u001b[0;32mif\u001b[0m \u001b[0;34m'likes'\u001b[0m \u001b[0;32mnot\u001b[0m \u001b[0;32min\u001b[0m \u001b[0mstatus\u001b[0m\u001b[0;34m.\u001b[0m\u001b[0mkeys\u001b[0m\u001b[0;34m(\u001b[0m\u001b[0;34m)\u001b[0m \u001b[0;32melse\u001b[0m \u001b[0mstatus\u001b[0m\u001b[0;34m[\u001b[0m\u001b[0;34m'likes'\u001b[0m\u001b[0;34m]\u001b[0m\u001b[0;34m[\u001b[0m\u001b[0;34m'summary'\u001b[0m\u001b[0;34m]\u001b[0m\u001b[0;34m[\u001b[0m\u001b[0;34m'total_count'\u001b[0m\u001b[0;34m]\u001b[0m\u001b[0;34m\u001b[0m\u001b[0m\n\u001b[0;32m---> 27\u001b[0;31m     \u001b[0mnum_comments\u001b[0m \u001b[0;34m=\u001b[0m \u001b[0;36m0\u001b[0m \u001b[0;32mif\u001b[0m \u001b[0;34m'comments'\u001b[0m \u001b[0;32mnot\u001b[0m \u001b[0;32min\u001b[0m \u001b[0mstatus\u001b[0m\u001b[0;34m.\u001b[0m\u001b[0mkeys\u001b[0m\u001b[0;34m(\u001b[0m\u001b[0;34m)\u001b[0m \u001b[0;32melse\u001b[0m \u001b[0mstatus\u001b[0m\u001b[0;34m[\u001b[0m\u001b[0;34m'comments'\u001b[0m\u001b[0;34m]\u001b[0m\u001b[0;34m[\u001b[0m\u001b[0;34m'summary'\u001b[0m\u001b[0;34m]\u001b[0m\u001b[0;34m[\u001b[0m\u001b[0;34m'total_count'\u001b[0m\u001b[0;34m]\u001b[0m\u001b[0;34m\u001b[0m\u001b[0m\n\u001b[0m\u001b[1;32m     28\u001b[0m     \u001b[0mnum_shares\u001b[0m \u001b[0;34m=\u001b[0m \u001b[0;36m0\u001b[0m \u001b[0;32mif\u001b[0m \u001b[0;34m'shares'\u001b[0m \u001b[0;32mnot\u001b[0m \u001b[0;32min\u001b[0m \u001b[0mstatus\u001b[0m\u001b[0;34m.\u001b[0m\u001b[0mkeys\u001b[0m\u001b[0;34m(\u001b[0m\u001b[0;34m)\u001b[0m \u001b[0;32melse\u001b[0m \u001b[0mstatus\u001b[0m\u001b[0;34m[\u001b[0m\u001b[0;34m'shares'\u001b[0m\u001b[0;34m]\u001b[0m\u001b[0;34m[\u001b[0m\u001b[0;34m'count'\u001b[0m\u001b[0;34m]\u001b[0m\u001b[0;34m\u001b[0m\u001b[0m\n\u001b[1;32m     29\u001b[0m \u001b[0;34m\u001b[0m\u001b[0m\n",
      "\u001b[0;31mKeyError\u001b[0m: 'total_count'"
     ]
    }
   ],
   "source": [
    "def scrapeFacebookPageFeedStatus(page_id, access_token):\n",
    "    with open('%s_facebook_statuses.csv' % page_id, 'wb') as file:\n",
    "        w = csv.writer(file)\n",
    "        w.writerow([\"status_id\", \"status_message\", \"link_name\", \"status_type\", \"status_link\",\n",
    "           \"status_published\", \"num_likes\", \"num_comments\", \"num_shares\"])\n",
    "        \n",
    "        has_next_page = True\n",
    "        num_processed = 0   # keep a count on how many we've processed\n",
    "        scrape_starttime = datetime.datetime.now()\n",
    "        \n",
    "        print \"Scraping %s Facebook Page: %s\\n\" % (page_id, scrape_starttime)\n",
    "        \n",
    "        statuses = getFacebookPageFeedData(page_id, access_token, 100)\n",
    "        \n",
    "        while has_next_page:\n",
    "            for status in statuses['data']:\n",
    "                w.writerow(processFacebookPageFeedStatus(status))\n",
    "                \n",
    "                # output progress occasionally to make sure code is not stalling\n",
    "                num_processed += 1\n",
    "                if num_processed % 1000 == 0:\n",
    "                    print \"%s Statuses Processed: %s\" % (num_processed, datetime.datetime.now())\n",
    "                    \n",
    "            # if there is no next page, we're done.\n",
    "            if 'paging' in statuses.keys():\n",
    "                statuses = json.loads(request_until_succeed(statuses['paging']['next']))\n",
    "            else:\n",
    "                has_next_page = False\n",
    "                \n",
    "        \n",
    "        print \"\\nDone!\\n%s Statuses Processed in %s\" % (num_processed, datetime.datetime.now() - scrape_starttime)\n",
    "\n",
    "\n",
    "scrapeFacebookPageFeedStatus(page_id, access_token)"
   ]
  },
  {
   "cell_type": "code",
   "execution_count": 14,
   "metadata": {
    "collapsed": false
   },
   "outputs": [
    {
     "name": "stdout",
     "output_type": "stream",
     "text": [
      "status_id,status_message,link_name,status_type,status_link,status_published,num_likes,num_comments,num_shares\r\n",
      "\n"
     ]
    }
   ],
   "source": [
    "with open('nytimes_facebook_statuses.csv') as fl:\n",
    "    print fl.readline()"
   ]
  },
  {
   "cell_type": "code",
   "execution_count": 12,
   "metadata": {
    "collapsed": false
   },
   "outputs": [
    {
     "data": {
      "text/plain": [
       "<open file 'nytimes_facebook_statuses.csv', mode 'r' at 0x10cd8bd20>"
      ]
     },
     "execution_count": 12,
     "metadata": {},
     "output_type": "execute_result"
    }
   ],
   "source": [
    "fl"
   ]
  },
  {
   "cell_type": "code",
   "execution_count": null,
   "metadata": {
    "collapsed": true
   },
   "outputs": [],
   "source": []
  }
 ],
 "metadata": {
  "kernelspec": {
   "display_name": "Python 2",
   "language": "python",
   "name": "python2"
  },
  "language_info": {
   "codemirror_mode": {
    "name": "ipython",
    "version": 2
   },
   "file_extension": ".py",
   "mimetype": "text/x-python",
   "name": "python",
   "nbconvert_exporter": "python",
   "pygments_lexer": "ipython2",
   "version": "2.7.10"
  }
 },
 "nbformat": 4,
 "nbformat_minor": 0
}
