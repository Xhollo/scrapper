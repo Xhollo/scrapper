{
 "cells": [
  {
   "cell_type": "code",
   "execution_count": 1,
   "metadata": {
    "collapsed": true
   },
   "outputs": [],
   "source": [
    "import urllib2, re, csv, os, os.path\n",
    "from bs4 import BeautifulSoup\n",
    "import requests as rq\n",
    "import pandas as pd"
   ]
  },
  {
   "cell_type": "markdown",
   "metadata": {},
   "source": [
    "### Get the Link"
   ]
  },
  {
   "cell_type": "code",
   "execution_count": 2,
   "metadata": {
    "collapsed": false
   },
   "outputs": [
    {
     "name": "stdout",
     "output_type": "stream",
     "text": [
      "[['http://resepkoki.co/belajar-memasak-pemula/'], ['http://resepkoki.co/masak-apa-hari-ini/'], ['http://resepkoki.co/aneka-resep-kue/'], ['http://resepkoki.co/tips-membuat-kremesan-ayam/'], ['http://resepkoki.co/swift-chopper-blender-tanpa-listrik/'], ['http://resepkoki.co/genius-nicer-dicer-plus/'], ['http://resepkoki.co/calista/'], ['http://resepkoki.co/8in1/'], ['http://resepkoki.co/cari-menyimpan-roti-tawar-agar-tetap-awet-dan-fresh/'], ['http://resepkoki.co/10-item-selain-makanan-yang-harus-ada-di-kulkas-anda/'], ['http://resepkoki.co/cantik-dan-langsing-dengan-jus-detox/'], ['http://resepkoki.co/resep-kue-bola-goreng-rasa-pisang/'], ['http://resepkoki.co/resep-kue-jagung/'], ['http://resepkoki.co/resep-pisang-goreng-rumahan/'], ['http://resepkoki.co/7-cara-sehat-memasak-sayuran-yang-baik-dan-benar/'], ['http://resepkoki.co/alasan-mengapa-memasak-sendiri-di-rumah-jauh-lebih-menguntungkan-untuk-anda/'], ['http://resepkoki.co/menu-sarapan-pagi-praktis/'], ['http://resepkoki.co/resep-bola-bola-coklat/'], ['http://resepkoki.co/martabak-mie-bayam-saus-mayonaise/'], ['http://resepkoki.co/pisang-goreng-gula-jawa/']]\n"
     ]
    }
   ],
   "source": [
    "# CSV file of the daya\n",
    "doc = './resepkoki.co.csv'\n",
    "\n",
    "urls = []\n",
    "with open(doc, 'rb') as csvfile:\n",
    "    links = csv.reader(csvfile, delimiter=' ', quotechar='|')\n",
    "    for link in links:\n",
    "        urls.append(link)\n",
    "\n",
    "print urls"
   ]
  },
  {
   "cell_type": "markdown",
   "metadata": {},
   "source": [
    "### Build data"
   ]
  },
  {
   "cell_type": "code",
   "execution_count": 3,
   "metadata": {
    "collapsed": true
   },
   "outputs": [],
   "source": [
    "# build content\n",
    "def build_content(soup):\n",
    "    contents = []\n",
    "    title = soup.find('h1')\n",
    "    content = soup.find('div', attrs={'class': 'entry-content'})\n",
    "    pages = content.findAll(['h3','p', 'li'])\n",
    "    for page in pages:\n",
    "        contents.append(page.getText())\n",
    "        \n",
    "    return contents"
   ]
  },
  {
   "cell_type": "markdown",
   "metadata": {},
   "source": [
    "### Grab the content and store it to text file"
   ]
  },
  {
   "cell_type": "code",
   "execution_count": 4,
   "metadata": {
    "collapsed": false
   },
   "outputs": [],
   "source": [
    "import sys\n",
    "reload(sys)\n",
    "sys.setdefaultencoding('utf-8')\n",
    "\n",
    "for idx, url in enumerate(urls):\n",
    "    print \"Processing {}...\".format(url)\n",
    "    page = rq.get(url[0])\n",
    "    soup = BeautifulSoup(page.text, \"html.parser\")\n",
    "    \n",
    "    new_doc = str(idx) + \".txt\"\n",
    "    \n",
    "    with open(new_doc,\"wb\") as site:\n",
    "        content = build_content(soup)        \n",
    "        site.write(\", \".join(content) + '\\n')\n",
    "#     print url"
   ]
  },
  {
   "cell_type": "code",
   "execution_count": 5,
   "metadata": {
    "collapsed": true
   },
   "outputs": [],
   "source": [
    "print \"OK\""
   ]
  },
  {
   "cell_type": "code",
   "execution_count": null,
   "metadata": {
    "collapsed": true
   },
   "outputs": [],
   "source": []
  }
 ],
 "metadata": {
  "kernelspec": {
   "display_name": "Python 2",
   "language": "python",
   "name": "python2"
  },
  "language_info": {
   "codemirror_mode": {
    "name": "ipython",
    "version": 2
   },
   "file_extension": ".py",
   "mimetype": "text/x-python",
   "name": "python",
   "nbconvert_exporter": "python",
   "pygments_lexer": "ipython2",
   "version": "2.7.10"
  }
 },
 "nbformat": 4,
 "nbformat_minor": 0
}
