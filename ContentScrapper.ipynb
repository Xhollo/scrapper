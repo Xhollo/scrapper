{
 "cells": [
  {
   "cell_type": "code",
   "execution_count": null,
   "metadata": {
    "collapsed": true
   },
   "outputs": [],
   "source": [
    "import urllib2, re, csv, os, os.path\n",
    "from bs4 import BeautifulSoup\n",
    "import requests as rq\n",
    "import pandas as pd"
   ]
  },
  {
   "cell_type": "markdown",
   "metadata": {},
   "source": [
    "### Get the Link"
   ]
  },
  {
   "cell_type": "code",
   "execution_count": null,
   "metadata": {
    "collapsed": false
   },
   "outputs": [],
   "source": [
    "# CSV file of the daya\n",
    "# doc = './resepkoki.co.csv'\n",
    "doc = './data/url-blogdetik-social.csv'\n",
    "\n",
    "urls = []\n",
    "with open(doc, 'rb') as csvfile:\n",
    "    links = csv.reader(csvfile, delimiter=' ', quotechar='|')\n",
    "    for link in links:\n",
    "        urls.append(link)\n",
    "\n",
    "print urls"
   ]
  },
  {
   "cell_type": "code",
   "execution_count": null,
   "metadata": {
    "collapsed": true
   },
   "outputs": [],
   "source": []
  },
  {
   "cell_type": "markdown",
   "metadata": {},
   "source": [
    "### Build data"
   ]
  },
  {
   "cell_type": "code",
   "execution_count": null,
   "metadata": {
    "collapsed": true
   },
   "outputs": [],
   "source": [
    "# build content\n",
    "def build_content(soup):\n",
    "    contents = []\n",
    "    title = \"\"\n",
    "    try:\n",
    "        title = soup.find('h1')\n",
    "        if title == \"\":\n",
    "            title == soup.find('h2')\n",
    "        else:\n",
    "            title == soup.find('h3')\n",
    "            \n",
    "        content = soup.find('div', attrs={'class': 'main_content'})\n",
    "        pages = content.findAll(['h3','p', 'li'])\n",
    "        for page in pages:\n",
    "            contents.append(page.getText())\n",
    "        \n",
    "        print title\n",
    "        return contents\n",
    "    except:\n",
    "        return False"
   ]
  },
  {
   "cell_type": "markdown",
   "metadata": {},
   "source": [
    "### Grab the content and store it to text file"
   ]
  },
  {
   "cell_type": "code",
   "execution_count": null,
   "metadata": {
    "collapsed": false
   },
   "outputs": [],
   "source": [
    "import sys\n",
    "reload(sys)\n",
    "sys.setdefaultencoding('utf-8')\n",
    "\n",
    "for idx, url in enumerate(urls):\n",
    "    print \"Processing {}...\".format(url)\n",
    "    page = rq.get(url[0])\n",
    "    soup = BeautifulSoup(page.text, \"html.parser\")\n",
    "    \n",
    "    new_doc = 'output/detik/' + str(idx) + \".txt\"\n",
    "    \n",
    "    with open(new_doc,\"wb\") as site:\n",
    "        content = build_content(soup)\n",
    "        if content != False:\n",
    "            site.write(\", \".join(content) + '\\n')\n",
    "    print url"
   ]
  },
  {
   "cell_type": "code",
   "execution_count": null,
   "metadata": {
    "collapsed": true
   },
   "outputs": [],
   "source": []
  },
  {
   "cell_type": "code",
   "execution_count": null,
   "metadata": {
    "collapsed": true
   },
   "outputs": [],
   "source": []
  }
 ],
 "metadata": {
  "kernelspec": {
   "display_name": "Python 2",
   "language": "python",
   "name": "python2"
  },
  "language_info": {
   "codemirror_mode": {
    "name": "ipython",
    "version": 2
   },
   "file_extension": ".py",
   "mimetype": "text/x-python",
   "name": "python",
   "nbconvert_exporter": "python",
   "pygments_lexer": "ipython2",
   "version": "2.7.10"
  }
 },
 "nbformat": 4,
 "nbformat_minor": 0
}
