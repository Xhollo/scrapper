{
 "cells": [
  {
   "cell_type": "markdown",
   "metadata": {},
   "source": [
    "# Content Scraper - Blog Detik\n",
    "\n",
    "### Agenda\n",
    "1. Mengambil seluruh data yang ada di dalam link yang diberikan\n",
    "2. Memilih data yang akan digunakan\n",
    "3. Menyimpan data ke dalam dokumen csv/pickle"
   ]
  },
  {
   "cell_type": "markdown",
   "metadata": {},
   "source": [
    "### Load library yang dibutuhkan"
   ]
  },
  {
   "cell_type": "code",
   "execution_count": 1,
   "metadata": {
    "collapsed": true
   },
   "outputs": [],
   "source": [
    "# Library untuk handle http request\n",
    "import urllib2\n",
    "import requests as rq\n",
    "\n",
    "# Library untuk mengolah CSV\n",
    "import csv\n",
    "\n",
    "# Library untuk mengolah text hasil scraping \n",
    "from bs4 import BeautifulSoup\n",
    "\n",
    "# Library untuk mengolah data\n",
    "import pandas as pd\n",
    "\n",
    "# Module untuk setting encoding\n",
    "import sys\n",
    "\n",
    "# hash untuk filename\n",
    "import hashlib\n",
    "import time\n"
   ]
  },
  {
   "cell_type": "markdown",
   "metadata": {},
   "source": [
    "### Mengambil seluruh data dari link yang diberikan"
   ]
  },
  {
   "cell_type": "code",
   "execution_count": 2,
   "metadata": {
    "collapsed": true
   },
   "outputs": [],
   "source": [
    "# for Python 2: use print only as a function\n",
    "from __future__ import print_function"
   ]
  },
  {
   "cell_type": "markdown",
   "metadata": {},
   "source": [
    "#### Function: grab_urls\n",
    "Untuk mengambil seluruh data (links) dari dokument yang diberikan\n",
    "- **input**: document yang berisi link\n",
    "- **output**: link dengan format data list"
   ]
  },
  {
   "cell_type": "code",
   "execution_count": 3,
   "metadata": {
    "collapsed": true
   },
   "outputs": [],
   "source": [
    "def grab_urls(doc):\n",
    "    urls = []\n",
    "    with open(doc, 'rb') as csvfile:\n",
    "        links = csv.reader(csvfile)\n",
    "        for link in links:\n",
    "            urls.append(link)\n",
    "    return urls"
   ]
  },
  {
   "cell_type": "markdown",
   "metadata": {},
   "source": [
    "#### Function: build_content\n",
    "Untuk mengekstrak konten yg hasil proses beautifulsoup\n",
    "- **input**: konten soup\n",
    "- **output**: konten yang sudah bersih dari tag html"
   ]
  },
  {
   "cell_type": "code",
   "execution_count": 4,
   "metadata": {
    "collapsed": false
   },
   "outputs": [],
   "source": [
    "# build content\n",
    "def build_content(soup, attr):\n",
    "    contents = []\n",
    "    title = \"\"\n",
    "    try:\n",
    "        title = soup.find('h1')\n",
    "        if title == \"\":\n",
    "            title == soup.find('h2')\n",
    "        else:\n",
    "            title == soup.find('h3')\n",
    "            \n",
    "        content = soup.find('div', attrs=attr)\n",
    "        pages = content.findAll(['h3','p', 'li'])\n",
    "        for page in pages:\n",
    "            contents.append(page.getText())\n",
    "        \n",
    "        print(title)\n",
    "        return contents\n",
    "    except:\n",
    "        return False"
   ]
  },
  {
   "cell_type": "markdown",
   "metadata": {},
   "source": [
    "#### Funtion name: make_hash\n",
    "- output: hash "
   ]
  },
  {
   "cell_type": "code",
   "execution_count": 5,
   "metadata": {
    "collapsed": true
   },
   "outputs": [],
   "source": [
    "def make_hash():\n",
    "    hash = hashlib.sha1()\n",
    "    hash.update(str(time.time()))\n",
    "    return str(hash.hexdigest())"
   ]
  },
  {
   "cell_type": "markdown",
   "metadata": {
    "collapsed": true
   },
   "source": []
  },
  {
   "cell_type": "code",
   "execution_count": 6,
   "metadata": {
    "collapsed": true
   },
   "outputs": [],
   "source": [
    "def make_content(urls):\n",
    "    res = {}\n",
    "    for idx, url in enumerate(urls):\n",
    "        print(\"Processing {}...\".format(url))\n",
    "        page = rq.get(url[0])\n",
    "        soup = BeautifulSoup(page.text, \"html.parser\")\n",
    "\n",
    "        new_doc = 'output/detik/' + make_hash() + \".txt\"\n",
    "\n",
    "        with open(new_doc,\"wb\") as site:\n",
    "            content = build_content(soup, {'id': 'blgdtk-content'})\n",
    "            if content != False:\n",
    "                site.write(\" \".join(content) + '\\n')\n",
    "                res.update({idx : True})\n",
    "            else:\n",
    "                res.update({idx : False})"
   ]
  },
  {
   "cell_type": "markdown",
   "metadata": {},
   "source": [
    "#### 1. Mengambil seluruh links yang ada di dokumen"
   ]
  },
  {
   "cell_type": "code",
   "execution_count": 7,
   "metadata": {
    "collapsed": false
   },
   "outputs": [],
   "source": [
    "doc = './data/url-blogdetik-social.csv'\n",
    "\n",
    "urls = grab_urls(doc)"
   ]
  },
  {
   "cell_type": "markdown",
   "metadata": {},
   "source": [
    "#### 2. Grab the content and store it to text file"
   ]
  },
  {
   "cell_type": "code",
   "execution_count": 8,
   "metadata": {
    "collapsed": false,
    "scrolled": true
   },
   "outputs": [],
   "source": [
    "reload(sys)\n",
    "sys.setdefaultencoding('utf-8')\n",
    "\n",
    "make_content(urls)"
   ]
  },
  {
   "cell_type": "code",
   "execution_count": null,
   "metadata": {
    "collapsed": true
   },
   "outputs": [],
   "source": []
  }
 ],
 "metadata": {
  "kernelspec": {
   "display_name": "Python 2",
   "language": "python",
   "name": "python2"
  },
  "language_info": {
   "codemirror_mode": {
    "name": "ipython",
    "version": 2
   },
   "file_extension": ".py",
   "mimetype": "text/x-python",
   "name": "python",
   "nbconvert_exporter": "python",
   "pygments_lexer": "ipython2",
   "version": "2.7.10"
  }
 },
 "nbformat": 4,
 "nbformat_minor": 0
}
