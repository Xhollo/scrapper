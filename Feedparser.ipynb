{
 "cells": [
  {
   "cell_type": "code",
   "execution_count": 1,
   "metadata": {
    "collapsed": false
   },
   "outputs": [],
   "source": [
    "import feedparser"
   ]
  },
  {
   "cell_type": "code",
   "execution_count": 2,
   "metadata": {
    "collapsed": true
   },
   "outputs": [],
   "source": [
    "d = feedparser.parse('http://feedparser.org/docs/examples/atom10.xml')"
   ]
  },
  {
   "cell_type": "code",
   "execution_count": 3,
   "metadata": {
    "collapsed": false
   },
   "outputs": [
    {
     "data": {
      "text/plain": [
       "{'bozo': 1,\n",
       " u'bozo_exception': xml.sax._exceptions.SAXParseException('no element found'),\n",
       " u'encoding': u'utf-8',\n",
       " 'entries': [],\n",
       " 'feed': {u'summary': u''},\n",
       " 'headers': {'age': '1',\n",
       "  'cache-control': 'no-cache',\n",
       "  'connection': 'close',\n",
       "  'content-length': '295',\n",
       "  'content-type': 'text/html; charset=utf-8',\n",
       "  'date': 'Tue, 27 Sep 2016 03:37:45 GMT',\n",
       "  'expires': '-1',\n",
       "  'pragma': 'no-cache',\n",
       "  'server': 'Microsoft-IIS/7.5',\n",
       "  'x-aspnet-version': '4.0.30319',\n",
       "  'x-powered-by': 'ASP.NET'},\n",
       " u'href': u'http://feedparser.org/docs/examples/atom10.xml',\n",
       " u'namespaces': {},\n",
       " u'status': 302,\n",
       " u'version': u''}"
      ]
     },
     "execution_count": 3,
     "metadata": {},
     "output_type": "execute_result"
    }
   ],
   "source": [
    "d"
   ]
  },
  {
   "cell_type": "code",
   "execution_count": null,
   "metadata": {
    "collapsed": true
   },
   "outputs": [],
   "source": []
  }
 ],
 "metadata": {
  "kernelspec": {
   "display_name": "Python 2",
   "language": "python",
   "name": "python2"
  },
  "language_info": {
   "codemirror_mode": {
    "name": "ipython",
    "version": 2
   },
   "file_extension": ".py",
   "mimetype": "text/x-python",
   "name": "python",
   "nbconvert_exporter": "python",
   "pygments_lexer": "ipython2",
   "version": "2.7.10"
  }
 },
 "nbformat": 4,
 "nbformat_minor": 0
}
